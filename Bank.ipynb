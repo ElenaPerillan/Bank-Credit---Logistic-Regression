{
 "cells": [
  {
   "cell_type": "markdown",
   "id": "e28d0bcf-2d39-4aa1-82d6-59be617cec3e",
   "metadata": {},
   "source": [
    "# Bank - Logistic Regression"
   ]
  },
  {
   "cell_type": "markdown",
   "id": "e615c943-1b22-4dfd-b9dc-5c7e65567329",
   "metadata": {},
   "source": [
    "# Importar librerias"
   ]
  },
  {
   "cell_type": "code",
   "execution_count": 8,
   "id": "97225f3f-6fd9-4549-874d-7d3dfa84b55b",
   "metadata": {
    "tags": []
   },
   "outputs": [],
   "source": [
    "import numpy as np\n",
    "import pandas as pd\n",
    "import seaborn as sns\n",
    "import matplotlib.pyplot as plt\n",
    "import statsmodels.formula.api as smf\n",
    "import math\n",
    "from sklearn.model_selection import train_test_split"
   ]
  },
  {
   "cell_type": "code",
   "execution_count": 10,
   "id": "96042fe3-eb5d-4e81-86cf-6c3a9b31db68",
   "metadata": {
    "tags": []
   },
   "outputs": [
    {
     "data": {
      "text/html": [
       "<div>\n",
       "<style scoped>\n",
       "    .dataframe tbody tr th:only-of-type {\n",
       "        vertical-align: middle;\n",
       "    }\n",
       "\n",
       "    .dataframe tbody tr th {\n",
       "        vertical-align: top;\n",
       "    }\n",
       "\n",
       "    .dataframe thead th {\n",
       "        text-align: right;\n",
       "    }\n",
       "</style>\n",
       "<table border=\"1\" class=\"dataframe\">\n",
       "  <thead>\n",
       "    <tr style=\"text-align: right;\">\n",
       "      <th></th>\n",
       "      <th>age</th>\n",
       "      <th>job</th>\n",
       "      <th>marital</th>\n",
       "      <th>education</th>\n",
       "      <th>default</th>\n",
       "      <th>housing</th>\n",
       "      <th>loan</th>\n",
       "      <th>contact</th>\n",
       "      <th>month</th>\n",
       "      <th>day_of_week</th>\n",
       "      <th>...</th>\n",
       "      <th>campaign</th>\n",
       "      <th>pdays</th>\n",
       "      <th>previous</th>\n",
       "      <th>poutcome</th>\n",
       "      <th>emp.var.rate</th>\n",
       "      <th>cons.price.idx</th>\n",
       "      <th>cons.conf.idx</th>\n",
       "      <th>euribor3m</th>\n",
       "      <th>nr.employed</th>\n",
       "      <th>y</th>\n",
       "    </tr>\n",
       "  </thead>\n",
       "  <tbody>\n",
       "    <tr>\n",
       "      <th>0</th>\n",
       "      <td>30</td>\n",
       "      <td>blue-collar</td>\n",
       "      <td>married</td>\n",
       "      <td>basic.9y</td>\n",
       "      <td>no</td>\n",
       "      <td>yes</td>\n",
       "      <td>no</td>\n",
       "      <td>cellular</td>\n",
       "      <td>may</td>\n",
       "      <td>fri</td>\n",
       "      <td>...</td>\n",
       "      <td>2</td>\n",
       "      <td>999</td>\n",
       "      <td>0</td>\n",
       "      <td>nonexistent</td>\n",
       "      <td>-1.8</td>\n",
       "      <td>92.893</td>\n",
       "      <td>-46.2</td>\n",
       "      <td>1.313</td>\n",
       "      <td>5099.1</td>\n",
       "      <td>no</td>\n",
       "    </tr>\n",
       "    <tr>\n",
       "      <th>1</th>\n",
       "      <td>39</td>\n",
       "      <td>services</td>\n",
       "      <td>single</td>\n",
       "      <td>high.school</td>\n",
       "      <td>no</td>\n",
       "      <td>no</td>\n",
       "      <td>no</td>\n",
       "      <td>telephone</td>\n",
       "      <td>may</td>\n",
       "      <td>fri</td>\n",
       "      <td>...</td>\n",
       "      <td>4</td>\n",
       "      <td>999</td>\n",
       "      <td>0</td>\n",
       "      <td>nonexistent</td>\n",
       "      <td>1.1</td>\n",
       "      <td>93.994</td>\n",
       "      <td>-36.4</td>\n",
       "      <td>4.855</td>\n",
       "      <td>5191.0</td>\n",
       "      <td>no</td>\n",
       "    </tr>\n",
       "    <tr>\n",
       "      <th>2</th>\n",
       "      <td>25</td>\n",
       "      <td>services</td>\n",
       "      <td>married</td>\n",
       "      <td>high.school</td>\n",
       "      <td>no</td>\n",
       "      <td>yes</td>\n",
       "      <td>no</td>\n",
       "      <td>telephone</td>\n",
       "      <td>jun</td>\n",
       "      <td>wed</td>\n",
       "      <td>...</td>\n",
       "      <td>1</td>\n",
       "      <td>999</td>\n",
       "      <td>0</td>\n",
       "      <td>nonexistent</td>\n",
       "      <td>1.4</td>\n",
       "      <td>94.465</td>\n",
       "      <td>-41.8</td>\n",
       "      <td>4.962</td>\n",
       "      <td>5228.1</td>\n",
       "      <td>no</td>\n",
       "    </tr>\n",
       "    <tr>\n",
       "      <th>3</th>\n",
       "      <td>38</td>\n",
       "      <td>services</td>\n",
       "      <td>married</td>\n",
       "      <td>basic.9y</td>\n",
       "      <td>no</td>\n",
       "      <td>unknown</td>\n",
       "      <td>unknown</td>\n",
       "      <td>telephone</td>\n",
       "      <td>jun</td>\n",
       "      <td>fri</td>\n",
       "      <td>...</td>\n",
       "      <td>3</td>\n",
       "      <td>999</td>\n",
       "      <td>0</td>\n",
       "      <td>nonexistent</td>\n",
       "      <td>1.4</td>\n",
       "      <td>94.465</td>\n",
       "      <td>-41.8</td>\n",
       "      <td>4.959</td>\n",
       "      <td>5228.1</td>\n",
       "      <td>no</td>\n",
       "    </tr>\n",
       "    <tr>\n",
       "      <th>4</th>\n",
       "      <td>47</td>\n",
       "      <td>admin.</td>\n",
       "      <td>married</td>\n",
       "      <td>university.degree</td>\n",
       "      <td>no</td>\n",
       "      <td>yes</td>\n",
       "      <td>no</td>\n",
       "      <td>cellular</td>\n",
       "      <td>nov</td>\n",
       "      <td>mon</td>\n",
       "      <td>...</td>\n",
       "      <td>1</td>\n",
       "      <td>999</td>\n",
       "      <td>0</td>\n",
       "      <td>nonexistent</td>\n",
       "      <td>-0.1</td>\n",
       "      <td>93.200</td>\n",
       "      <td>-42.0</td>\n",
       "      <td>4.191</td>\n",
       "      <td>5195.8</td>\n",
       "      <td>no</td>\n",
       "    </tr>\n",
       "    <tr>\n",
       "      <th>...</th>\n",
       "      <td>...</td>\n",
       "      <td>...</td>\n",
       "      <td>...</td>\n",
       "      <td>...</td>\n",
       "      <td>...</td>\n",
       "      <td>...</td>\n",
       "      <td>...</td>\n",
       "      <td>...</td>\n",
       "      <td>...</td>\n",
       "      <td>...</td>\n",
       "      <td>...</td>\n",
       "      <td>...</td>\n",
       "      <td>...</td>\n",
       "      <td>...</td>\n",
       "      <td>...</td>\n",
       "      <td>...</td>\n",
       "      <td>...</td>\n",
       "      <td>...</td>\n",
       "      <td>...</td>\n",
       "      <td>...</td>\n",
       "      <td>...</td>\n",
       "    </tr>\n",
       "    <tr>\n",
       "      <th>4114</th>\n",
       "      <td>30</td>\n",
       "      <td>admin.</td>\n",
       "      <td>married</td>\n",
       "      <td>basic.6y</td>\n",
       "      <td>no</td>\n",
       "      <td>yes</td>\n",
       "      <td>yes</td>\n",
       "      <td>cellular</td>\n",
       "      <td>jul</td>\n",
       "      <td>thu</td>\n",
       "      <td>...</td>\n",
       "      <td>1</td>\n",
       "      <td>999</td>\n",
       "      <td>0</td>\n",
       "      <td>nonexistent</td>\n",
       "      <td>1.4</td>\n",
       "      <td>93.918</td>\n",
       "      <td>-42.7</td>\n",
       "      <td>4.958</td>\n",
       "      <td>5228.1</td>\n",
       "      <td>no</td>\n",
       "    </tr>\n",
       "    <tr>\n",
       "      <th>4115</th>\n",
       "      <td>39</td>\n",
       "      <td>admin.</td>\n",
       "      <td>married</td>\n",
       "      <td>high.school</td>\n",
       "      <td>no</td>\n",
       "      <td>yes</td>\n",
       "      <td>no</td>\n",
       "      <td>telephone</td>\n",
       "      <td>jul</td>\n",
       "      <td>fri</td>\n",
       "      <td>...</td>\n",
       "      <td>1</td>\n",
       "      <td>999</td>\n",
       "      <td>0</td>\n",
       "      <td>nonexistent</td>\n",
       "      <td>1.4</td>\n",
       "      <td>93.918</td>\n",
       "      <td>-42.7</td>\n",
       "      <td>4.959</td>\n",
       "      <td>5228.1</td>\n",
       "      <td>no</td>\n",
       "    </tr>\n",
       "    <tr>\n",
       "      <th>4116</th>\n",
       "      <td>27</td>\n",
       "      <td>student</td>\n",
       "      <td>single</td>\n",
       "      <td>high.school</td>\n",
       "      <td>no</td>\n",
       "      <td>no</td>\n",
       "      <td>no</td>\n",
       "      <td>cellular</td>\n",
       "      <td>may</td>\n",
       "      <td>mon</td>\n",
       "      <td>...</td>\n",
       "      <td>2</td>\n",
       "      <td>999</td>\n",
       "      <td>1</td>\n",
       "      <td>failure</td>\n",
       "      <td>-1.8</td>\n",
       "      <td>92.893</td>\n",
       "      <td>-46.2</td>\n",
       "      <td>1.354</td>\n",
       "      <td>5099.1</td>\n",
       "      <td>no</td>\n",
       "    </tr>\n",
       "    <tr>\n",
       "      <th>4117</th>\n",
       "      <td>58</td>\n",
       "      <td>admin.</td>\n",
       "      <td>married</td>\n",
       "      <td>high.school</td>\n",
       "      <td>no</td>\n",
       "      <td>no</td>\n",
       "      <td>no</td>\n",
       "      <td>cellular</td>\n",
       "      <td>aug</td>\n",
       "      <td>fri</td>\n",
       "      <td>...</td>\n",
       "      <td>1</td>\n",
       "      <td>999</td>\n",
       "      <td>0</td>\n",
       "      <td>nonexistent</td>\n",
       "      <td>1.4</td>\n",
       "      <td>93.444</td>\n",
       "      <td>-36.1</td>\n",
       "      <td>4.966</td>\n",
       "      <td>5228.1</td>\n",
       "      <td>no</td>\n",
       "    </tr>\n",
       "    <tr>\n",
       "      <th>4118</th>\n",
       "      <td>34</td>\n",
       "      <td>management</td>\n",
       "      <td>single</td>\n",
       "      <td>high.school</td>\n",
       "      <td>no</td>\n",
       "      <td>yes</td>\n",
       "      <td>no</td>\n",
       "      <td>cellular</td>\n",
       "      <td>nov</td>\n",
       "      <td>wed</td>\n",
       "      <td>...</td>\n",
       "      <td>1</td>\n",
       "      <td>999</td>\n",
       "      <td>0</td>\n",
       "      <td>nonexistent</td>\n",
       "      <td>-0.1</td>\n",
       "      <td>93.200</td>\n",
       "      <td>-42.0</td>\n",
       "      <td>4.120</td>\n",
       "      <td>5195.8</td>\n",
       "      <td>no</td>\n",
       "    </tr>\n",
       "  </tbody>\n",
       "</table>\n",
       "<p>4119 rows × 21 columns</p>\n",
       "</div>"
      ],
      "text/plain": [
       "      age          job  marital          education default  housing     loan  \\\n",
       "0      30  blue-collar  married           basic.9y      no      yes       no   \n",
       "1      39     services   single        high.school      no       no       no   \n",
       "2      25     services  married        high.school      no      yes       no   \n",
       "3      38     services  married           basic.9y      no  unknown  unknown   \n",
       "4      47       admin.  married  university.degree      no      yes       no   \n",
       "...   ...          ...      ...                ...     ...      ...      ...   \n",
       "4114   30       admin.  married           basic.6y      no      yes      yes   \n",
       "4115   39       admin.  married        high.school      no      yes       no   \n",
       "4116   27      student   single        high.school      no       no       no   \n",
       "4117   58       admin.  married        high.school      no       no       no   \n",
       "4118   34   management   single        high.school      no      yes       no   \n",
       "\n",
       "        contact month day_of_week  ...  campaign  pdays  previous  \\\n",
       "0      cellular   may         fri  ...         2    999         0   \n",
       "1     telephone   may         fri  ...         4    999         0   \n",
       "2     telephone   jun         wed  ...         1    999         0   \n",
       "3     telephone   jun         fri  ...         3    999         0   \n",
       "4      cellular   nov         mon  ...         1    999         0   \n",
       "...         ...   ...         ...  ...       ...    ...       ...   \n",
       "4114   cellular   jul         thu  ...         1    999         0   \n",
       "4115  telephone   jul         fri  ...         1    999         0   \n",
       "4116   cellular   may         mon  ...         2    999         1   \n",
       "4117   cellular   aug         fri  ...         1    999         0   \n",
       "4118   cellular   nov         wed  ...         1    999         0   \n",
       "\n",
       "         poutcome emp.var.rate  cons.price.idx  cons.conf.idx  euribor3m  \\\n",
       "0     nonexistent         -1.8          92.893          -46.2      1.313   \n",
       "1     nonexistent          1.1          93.994          -36.4      4.855   \n",
       "2     nonexistent          1.4          94.465          -41.8      4.962   \n",
       "3     nonexistent          1.4          94.465          -41.8      4.959   \n",
       "4     nonexistent         -0.1          93.200          -42.0      4.191   \n",
       "...           ...          ...             ...            ...        ...   \n",
       "4114  nonexistent          1.4          93.918          -42.7      4.958   \n",
       "4115  nonexistent          1.4          93.918          -42.7      4.959   \n",
       "4116      failure         -1.8          92.893          -46.2      1.354   \n",
       "4117  nonexistent          1.4          93.444          -36.1      4.966   \n",
       "4118  nonexistent         -0.1          93.200          -42.0      4.120   \n",
       "\n",
       "      nr.employed   y  \n",
       "0          5099.1  no  \n",
       "1          5191.0  no  \n",
       "2          5228.1  no  \n",
       "3          5228.1  no  \n",
       "4          5195.8  no  \n",
       "...           ...  ..  \n",
       "4114       5228.1  no  \n",
       "4115       5228.1  no  \n",
       "4116       5099.1  no  \n",
       "4117       5228.1  no  \n",
       "4118       5195.8  no  \n",
       "\n",
       "[4119 rows x 21 columns]"
      ]
     },
     "execution_count": 10,
     "metadata": {},
     "output_type": "execute_result"
    }
   ],
   "source": [
    "data = pd.read_csv('bank.csv', sep = ';')\n",
    "data"
   ]
  },
  {
   "cell_type": "code",
   "execution_count": 149,
   "id": "80e74f04-7c0d-459b-85df-5b67180ba37a",
   "metadata": {
    "tags": []
   },
   "outputs": [
    {
     "data": {
      "text/plain": [
       "(4119, 21)"
      ]
     },
     "execution_count": 149,
     "metadata": {},
     "output_type": "execute_result"
    }
   ],
   "source": [
    "data.shape"
   ]
  },
  {
   "cell_type": "code",
   "execution_count": 151,
   "id": "a3cd5383-acbe-4529-a787-d1a6f9541359",
   "metadata": {
    "tags": []
   },
   "outputs": [
    {
     "data": {
      "text/plain": [
       "Index(['age', 'job', 'marital', 'education', 'default', 'housing', 'loan',\n",
       "       'contact', 'month', 'day_of_week', 'duration', 'campaign', 'pdays',\n",
       "       'previous', 'poutcome', 'emp.var.rate', 'cons.price.idx',\n",
       "       'cons.conf.idx', 'euribor3m', 'nr.employed', 'y'],\n",
       "      dtype='object')"
      ]
     },
     "execution_count": 151,
     "metadata": {},
     "output_type": "execute_result"
    }
   ],
   "source": [
    "data.columns"
   ]
  },
  {
   "cell_type": "code",
   "execution_count": 153,
   "id": "edc92d35-6929-43d0-b2d7-c3aff0ed4aca",
   "metadata": {
    "tags": []
   },
   "outputs": [],
   "source": [
    "X = data.loc[:,data.columns != 'y']\n",
    "y = data.loc[:,'y']\n",
    "\n",
    "\n",
    "X_train, X_test, y_train, y_test = train_test_split(X,y,\n",
    "                                                    train_size = 0.75,\n",
    "                                                    test_size = 0.25,\n",
    "                                                   random_state = 1)\n",
    "\n",
    "# random_state es para empezar el shuffle en el mismo lugar y que lo random sea siempre lo mismo"
   ]
  },
  {
   "cell_type": "markdown",
   "id": "560c7c4b-5538-45cf-bf73-14511416cca7",
   "metadata": {},
   "source": [
    "## Limpieza datos"
   ]
  },
  {
   "cell_type": "code",
   "execution_count": 28,
   "id": "5f97e706-33da-4be5-a824-bf6e1e1de896",
   "metadata": {
    "tags": []
   },
   "outputs": [
    {
     "data": {
      "text/plain": [
       "array(['cellular', 'telephone'], dtype=object)"
      ]
     },
     "execution_count": 28,
     "metadata": {},
     "output_type": "execute_result"
    }
   ],
   "source": [
    "X_train.contact.unique()"
   ]
  },
  {
   "cell_type": "code",
   "execution_count": null,
   "id": "7a70527c-4c18-4823-88f0-b397a508abd3",
   "metadata": {},
   "outputs": [],
   "source": [
    "# encode manual "
   ]
  },
  {
   "cell_type": "code",
   "execution_count": 155,
   "id": "4099bd12-c0b8-4a43-a1cc-d439352143d6",
   "metadata": {
    "tags": []
   },
   "outputs": [
    {
     "data": {
      "text/plain": [
       "array([0, 0, 1, ..., 1, 1, 0])"
      ]
     },
     "execution_count": 155,
     "metadata": {},
     "output_type": "execute_result"
    }
   ],
   "source": [
    "y_train = np.where(y_train == 'yes', 1, 0)\n",
    "y_test = np.where(y_test == 'yes', 1, 0)\n",
    "y_test"
   ]
  },
  {
   "cell_type": "code",
   "execution_count": 157,
   "id": "cdc2f0ee-8123-461a-bde8-098fb9f48b6c",
   "metadata": {
    "collapsed": true,
    "jupyter": {
     "outputs_hidden": true
    },
    "tags": []
   },
   "outputs": [
    {
     "data": {
      "text/html": [
       "<div>\n",
       "<style scoped>\n",
       "    .dataframe tbody tr th:only-of-type {\n",
       "        vertical-align: middle;\n",
       "    }\n",
       "\n",
       "    .dataframe tbody tr th {\n",
       "        vertical-align: top;\n",
       "    }\n",
       "\n",
       "    .dataframe thead th {\n",
       "        text-align: right;\n",
       "    }\n",
       "</style>\n",
       "<table border=\"1\" class=\"dataframe\">\n",
       "  <thead>\n",
       "    <tr style=\"text-align: right;\">\n",
       "      <th></th>\n",
       "      <th>age</th>\n",
       "      <th>job</th>\n",
       "      <th>marital</th>\n",
       "      <th>education</th>\n",
       "      <th>default</th>\n",
       "      <th>housing</th>\n",
       "      <th>loan</th>\n",
       "      <th>contact</th>\n",
       "      <th>month</th>\n",
       "      <th>day_of_week</th>\n",
       "      <th>duration</th>\n",
       "      <th>campaign</th>\n",
       "      <th>pdays</th>\n",
       "      <th>previous</th>\n",
       "      <th>poutcome</th>\n",
       "      <th>emp.var.rate</th>\n",
       "      <th>cons.price.idx</th>\n",
       "      <th>cons.conf.idx</th>\n",
       "      <th>euribor3m</th>\n",
       "      <th>nr.employed</th>\n",
       "    </tr>\n",
       "  </thead>\n",
       "  <tbody>\n",
       "    <tr>\n",
       "      <th>3306</th>\n",
       "      <td>35</td>\n",
       "      <td>entrepreneur</td>\n",
       "      <td>married</td>\n",
       "      <td>high.school</td>\n",
       "      <td>0</td>\n",
       "      <td>yes</td>\n",
       "      <td>no</td>\n",
       "      <td>cellular</td>\n",
       "      <td>nov</td>\n",
       "      <td>mon</td>\n",
       "      <td>131</td>\n",
       "      <td>2</td>\n",
       "      <td>999</td>\n",
       "      <td>0</td>\n",
       "      <td>nonexistent</td>\n",
       "      <td>-0.1</td>\n",
       "      <td>93.200</td>\n",
       "      <td>-42.0</td>\n",
       "      <td>4.191</td>\n",
       "      <td>5195.8</td>\n",
       "    </tr>\n",
       "    <tr>\n",
       "      <th>137</th>\n",
       "      <td>34</td>\n",
       "      <td>admin.</td>\n",
       "      <td>married</td>\n",
       "      <td>university.degree</td>\n",
       "      <td>0</td>\n",
       "      <td>no</td>\n",
       "      <td>no</td>\n",
       "      <td>cellular</td>\n",
       "      <td>nov</td>\n",
       "      <td>mon</td>\n",
       "      <td>141</td>\n",
       "      <td>2</td>\n",
       "      <td>999</td>\n",
       "      <td>0</td>\n",
       "      <td>nonexistent</td>\n",
       "      <td>-1.1</td>\n",
       "      <td>94.767</td>\n",
       "      <td>-50.8</td>\n",
       "      <td>1.050</td>\n",
       "      <td>4963.6</td>\n",
       "    </tr>\n",
       "    <tr>\n",
       "      <th>973</th>\n",
       "      <td>49</td>\n",
       "      <td>unemployed</td>\n",
       "      <td>married</td>\n",
       "      <td>professional.course</td>\n",
       "      <td>0</td>\n",
       "      <td>no</td>\n",
       "      <td>no</td>\n",
       "      <td>cellular</td>\n",
       "      <td>jun</td>\n",
       "      <td>fri</td>\n",
       "      <td>317</td>\n",
       "      <td>1</td>\n",
       "      <td>999</td>\n",
       "      <td>0</td>\n",
       "      <td>nonexistent</td>\n",
       "      <td>-2.9</td>\n",
       "      <td>92.963</td>\n",
       "      <td>-40.8</td>\n",
       "      <td>1.268</td>\n",
       "      <td>5076.2</td>\n",
       "    </tr>\n",
       "    <tr>\n",
       "      <th>797</th>\n",
       "      <td>23</td>\n",
       "      <td>admin.</td>\n",
       "      <td>single</td>\n",
       "      <td>university.degree</td>\n",
       "      <td>0</td>\n",
       "      <td>yes</td>\n",
       "      <td>no</td>\n",
       "      <td>cellular</td>\n",
       "      <td>jul</td>\n",
       "      <td>wed</td>\n",
       "      <td>104</td>\n",
       "      <td>1</td>\n",
       "      <td>999</td>\n",
       "      <td>2</td>\n",
       "      <td>failure</td>\n",
       "      <td>-1.7</td>\n",
       "      <td>94.215</td>\n",
       "      <td>-40.3</td>\n",
       "      <td>0.881</td>\n",
       "      <td>4991.6</td>\n",
       "    </tr>\n",
       "    <tr>\n",
       "      <th>1333</th>\n",
       "      <td>56</td>\n",
       "      <td>retired</td>\n",
       "      <td>married</td>\n",
       "      <td>basic.4y</td>\n",
       "      <td>0</td>\n",
       "      <td>no</td>\n",
       "      <td>no</td>\n",
       "      <td>cellular</td>\n",
       "      <td>aug</td>\n",
       "      <td>wed</td>\n",
       "      <td>687</td>\n",
       "      <td>2</td>\n",
       "      <td>999</td>\n",
       "      <td>0</td>\n",
       "      <td>nonexistent</td>\n",
       "      <td>1.4</td>\n",
       "      <td>93.444</td>\n",
       "      <td>-36.1</td>\n",
       "      <td>4.964</td>\n",
       "      <td>5228.1</td>\n",
       "    </tr>\n",
       "    <tr>\n",
       "      <th>...</th>\n",
       "      <td>...</td>\n",
       "      <td>...</td>\n",
       "      <td>...</td>\n",
       "      <td>...</td>\n",
       "      <td>...</td>\n",
       "      <td>...</td>\n",
       "      <td>...</td>\n",
       "      <td>...</td>\n",
       "      <td>...</td>\n",
       "      <td>...</td>\n",
       "      <td>...</td>\n",
       "      <td>...</td>\n",
       "      <td>...</td>\n",
       "      <td>...</td>\n",
       "      <td>...</td>\n",
       "      <td>...</td>\n",
       "      <td>...</td>\n",
       "      <td>...</td>\n",
       "      <td>...</td>\n",
       "      <td>...</td>\n",
       "    </tr>\n",
       "    <tr>\n",
       "      <th>2895</th>\n",
       "      <td>30</td>\n",
       "      <td>blue-collar</td>\n",
       "      <td>single</td>\n",
       "      <td>basic.9y</td>\n",
       "      <td>0</td>\n",
       "      <td>yes</td>\n",
       "      <td>no</td>\n",
       "      <td>cellular</td>\n",
       "      <td>nov</td>\n",
       "      <td>thu</td>\n",
       "      <td>71</td>\n",
       "      <td>2</td>\n",
       "      <td>999</td>\n",
       "      <td>0</td>\n",
       "      <td>nonexistent</td>\n",
       "      <td>-0.1</td>\n",
       "      <td>93.200</td>\n",
       "      <td>-42.0</td>\n",
       "      <td>4.076</td>\n",
       "      <td>5195.8</td>\n",
       "    </tr>\n",
       "    <tr>\n",
       "      <th>2763</th>\n",
       "      <td>23</td>\n",
       "      <td>blue-collar</td>\n",
       "      <td>single</td>\n",
       "      <td>basic.9y</td>\n",
       "      <td>0</td>\n",
       "      <td>no</td>\n",
       "      <td>no</td>\n",
       "      <td>cellular</td>\n",
       "      <td>jul</td>\n",
       "      <td>thu</td>\n",
       "      <td>250</td>\n",
       "      <td>4</td>\n",
       "      <td>999</td>\n",
       "      <td>1</td>\n",
       "      <td>failure</td>\n",
       "      <td>-1.7</td>\n",
       "      <td>94.215</td>\n",
       "      <td>-40.3</td>\n",
       "      <td>0.846</td>\n",
       "      <td>4991.6</td>\n",
       "    </tr>\n",
       "    <tr>\n",
       "      <th>905</th>\n",
       "      <td>77</td>\n",
       "      <td>retired</td>\n",
       "      <td>divorced</td>\n",
       "      <td>professional.course</td>\n",
       "      <td>0</td>\n",
       "      <td>no</td>\n",
       "      <td>no</td>\n",
       "      <td>cellular</td>\n",
       "      <td>aug</td>\n",
       "      <td>mon</td>\n",
       "      <td>258</td>\n",
       "      <td>1</td>\n",
       "      <td>999</td>\n",
       "      <td>0</td>\n",
       "      <td>nonexistent</td>\n",
       "      <td>-1.7</td>\n",
       "      <td>94.027</td>\n",
       "      <td>-38.3</td>\n",
       "      <td>0.898</td>\n",
       "      <td>4991.6</td>\n",
       "    </tr>\n",
       "    <tr>\n",
       "      <th>3980</th>\n",
       "      <td>43</td>\n",
       "      <td>blue-collar</td>\n",
       "      <td>married</td>\n",
       "      <td>basic.6y</td>\n",
       "      <td>0</td>\n",
       "      <td>yes</td>\n",
       "      <td>no</td>\n",
       "      <td>cellular</td>\n",
       "      <td>jun</td>\n",
       "      <td>mon</td>\n",
       "      <td>458</td>\n",
       "      <td>6</td>\n",
       "      <td>999</td>\n",
       "      <td>0</td>\n",
       "      <td>nonexistent</td>\n",
       "      <td>-2.9</td>\n",
       "      <td>92.963</td>\n",
       "      <td>-40.8</td>\n",
       "      <td>1.281</td>\n",
       "      <td>5076.2</td>\n",
       "    </tr>\n",
       "    <tr>\n",
       "      <th>235</th>\n",
       "      <td>28</td>\n",
       "      <td>blue-collar</td>\n",
       "      <td>married</td>\n",
       "      <td>basic.9y</td>\n",
       "      <td>0</td>\n",
       "      <td>yes</td>\n",
       "      <td>no</td>\n",
       "      <td>cellular</td>\n",
       "      <td>jul</td>\n",
       "      <td>mon</td>\n",
       "      <td>225</td>\n",
       "      <td>3</td>\n",
       "      <td>999</td>\n",
       "      <td>0</td>\n",
       "      <td>nonexistent</td>\n",
       "      <td>1.4</td>\n",
       "      <td>93.918</td>\n",
       "      <td>-42.7</td>\n",
       "      <td>4.960</td>\n",
       "      <td>5228.1</td>\n",
       "    </tr>\n",
       "  </tbody>\n",
       "</table>\n",
       "<p>3089 rows × 20 columns</p>\n",
       "</div>"
      ],
      "text/plain": [
       "      age           job   marital            education  default housing loan  \\\n",
       "3306   35  entrepreneur   married          high.school        0     yes   no   \n",
       "137    34        admin.   married    university.degree        0      no   no   \n",
       "973    49    unemployed   married  professional.course        0      no   no   \n",
       "797    23        admin.    single    university.degree        0     yes   no   \n",
       "1333   56       retired   married             basic.4y        0      no   no   \n",
       "...   ...           ...       ...                  ...      ...     ...  ...   \n",
       "2895   30   blue-collar    single             basic.9y        0     yes   no   \n",
       "2763   23   blue-collar    single             basic.9y        0      no   no   \n",
       "905    77       retired  divorced  professional.course        0      no   no   \n",
       "3980   43   blue-collar   married             basic.6y        0     yes   no   \n",
       "235    28   blue-collar   married             basic.9y        0     yes   no   \n",
       "\n",
       "       contact month day_of_week  duration  campaign  pdays  previous  \\\n",
       "3306  cellular   nov         mon       131         2    999         0   \n",
       "137   cellular   nov         mon       141         2    999         0   \n",
       "973   cellular   jun         fri       317         1    999         0   \n",
       "797   cellular   jul         wed       104         1    999         2   \n",
       "1333  cellular   aug         wed       687         2    999         0   \n",
       "...        ...   ...         ...       ...       ...    ...       ...   \n",
       "2895  cellular   nov         thu        71         2    999         0   \n",
       "2763  cellular   jul         thu       250         4    999         1   \n",
       "905   cellular   aug         mon       258         1    999         0   \n",
       "3980  cellular   jun         mon       458         6    999         0   \n",
       "235   cellular   jul         mon       225         3    999         0   \n",
       "\n",
       "         poutcome  emp.var.rate  cons.price.idx  cons.conf.idx  euribor3m  \\\n",
       "3306  nonexistent          -0.1          93.200          -42.0      4.191   \n",
       "137   nonexistent          -1.1          94.767          -50.8      1.050   \n",
       "973   nonexistent          -2.9          92.963          -40.8      1.268   \n",
       "797       failure          -1.7          94.215          -40.3      0.881   \n",
       "1333  nonexistent           1.4          93.444          -36.1      4.964   \n",
       "...           ...           ...             ...            ...        ...   \n",
       "2895  nonexistent          -0.1          93.200          -42.0      4.076   \n",
       "2763      failure          -1.7          94.215          -40.3      0.846   \n",
       "905   nonexistent          -1.7          94.027          -38.3      0.898   \n",
       "3980  nonexistent          -2.9          92.963          -40.8      1.281   \n",
       "235   nonexistent           1.4          93.918          -42.7      4.960   \n",
       "\n",
       "      nr.employed  \n",
       "3306       5195.8  \n",
       "137        4963.6  \n",
       "973        5076.2  \n",
       "797        4991.6  \n",
       "1333       5228.1  \n",
       "...           ...  \n",
       "2895       5195.8  \n",
       "2763       4991.6  \n",
       "905        4991.6  \n",
       "3980       5076.2  \n",
       "235        5228.1  \n",
       "\n",
       "[3089 rows x 20 columns]"
      ]
     },
     "execution_count": 157,
     "metadata": {},
     "output_type": "execute_result"
    }
   ],
   "source": [
    "X_train.default = np.where(X_train.default == 'yes', 1, 0)\n",
    "X_test.default = np.where(X_test.default == 'yes', 1, 0)\n",
    "X_train"
   ]
  },
  {
   "cell_type": "code",
   "execution_count": 159,
   "id": "bb35ef2f-6be8-4934-b3cd-0d5846c4b6c2",
   "metadata": {
    "collapsed": true,
    "jupyter": {
     "outputs_hidden": true
    },
    "tags": []
   },
   "outputs": [
    {
     "data": {
      "text/html": [
       "<div>\n",
       "<style scoped>\n",
       "    .dataframe tbody tr th:only-of-type {\n",
       "        vertical-align: middle;\n",
       "    }\n",
       "\n",
       "    .dataframe tbody tr th {\n",
       "        vertical-align: top;\n",
       "    }\n",
       "\n",
       "    .dataframe thead th {\n",
       "        text-align: right;\n",
       "    }\n",
       "</style>\n",
       "<table border=\"1\" class=\"dataframe\">\n",
       "  <thead>\n",
       "    <tr style=\"text-align: right;\">\n",
       "      <th></th>\n",
       "      <th>age</th>\n",
       "      <th>job</th>\n",
       "      <th>marital</th>\n",
       "      <th>education</th>\n",
       "      <th>default</th>\n",
       "      <th>housing</th>\n",
       "      <th>loan</th>\n",
       "      <th>contact</th>\n",
       "      <th>month</th>\n",
       "      <th>day_of_week</th>\n",
       "      <th>duration</th>\n",
       "      <th>campaign</th>\n",
       "      <th>pdays</th>\n",
       "      <th>previous</th>\n",
       "      <th>poutcome</th>\n",
       "      <th>emp.var.rate</th>\n",
       "      <th>cons.price.idx</th>\n",
       "      <th>cons.conf.idx</th>\n",
       "      <th>euribor3m</th>\n",
       "      <th>nr.employed</th>\n",
       "    </tr>\n",
       "  </thead>\n",
       "  <tbody>\n",
       "    <tr>\n",
       "      <th>3306</th>\n",
       "      <td>35</td>\n",
       "      <td>entrepreneur</td>\n",
       "      <td>married</td>\n",
       "      <td>high.school</td>\n",
       "      <td>0</td>\n",
       "      <td>1</td>\n",
       "      <td>no</td>\n",
       "      <td>cellular</td>\n",
       "      <td>nov</td>\n",
       "      <td>mon</td>\n",
       "      <td>131</td>\n",
       "      <td>2</td>\n",
       "      <td>999</td>\n",
       "      <td>0</td>\n",
       "      <td>nonexistent</td>\n",
       "      <td>-0.1</td>\n",
       "      <td>93.200</td>\n",
       "      <td>-42.0</td>\n",
       "      <td>4.191</td>\n",
       "      <td>5195.8</td>\n",
       "    </tr>\n",
       "    <tr>\n",
       "      <th>137</th>\n",
       "      <td>34</td>\n",
       "      <td>admin.</td>\n",
       "      <td>married</td>\n",
       "      <td>university.degree</td>\n",
       "      <td>0</td>\n",
       "      <td>0</td>\n",
       "      <td>no</td>\n",
       "      <td>cellular</td>\n",
       "      <td>nov</td>\n",
       "      <td>mon</td>\n",
       "      <td>141</td>\n",
       "      <td>2</td>\n",
       "      <td>999</td>\n",
       "      <td>0</td>\n",
       "      <td>nonexistent</td>\n",
       "      <td>-1.1</td>\n",
       "      <td>94.767</td>\n",
       "      <td>-50.8</td>\n",
       "      <td>1.050</td>\n",
       "      <td>4963.6</td>\n",
       "    </tr>\n",
       "    <tr>\n",
       "      <th>973</th>\n",
       "      <td>49</td>\n",
       "      <td>unemployed</td>\n",
       "      <td>married</td>\n",
       "      <td>professional.course</td>\n",
       "      <td>0</td>\n",
       "      <td>0</td>\n",
       "      <td>no</td>\n",
       "      <td>cellular</td>\n",
       "      <td>jun</td>\n",
       "      <td>fri</td>\n",
       "      <td>317</td>\n",
       "      <td>1</td>\n",
       "      <td>999</td>\n",
       "      <td>0</td>\n",
       "      <td>nonexistent</td>\n",
       "      <td>-2.9</td>\n",
       "      <td>92.963</td>\n",
       "      <td>-40.8</td>\n",
       "      <td>1.268</td>\n",
       "      <td>5076.2</td>\n",
       "    </tr>\n",
       "    <tr>\n",
       "      <th>797</th>\n",
       "      <td>23</td>\n",
       "      <td>admin.</td>\n",
       "      <td>single</td>\n",
       "      <td>university.degree</td>\n",
       "      <td>0</td>\n",
       "      <td>1</td>\n",
       "      <td>no</td>\n",
       "      <td>cellular</td>\n",
       "      <td>jul</td>\n",
       "      <td>wed</td>\n",
       "      <td>104</td>\n",
       "      <td>1</td>\n",
       "      <td>999</td>\n",
       "      <td>2</td>\n",
       "      <td>failure</td>\n",
       "      <td>-1.7</td>\n",
       "      <td>94.215</td>\n",
       "      <td>-40.3</td>\n",
       "      <td>0.881</td>\n",
       "      <td>4991.6</td>\n",
       "    </tr>\n",
       "    <tr>\n",
       "      <th>1333</th>\n",
       "      <td>56</td>\n",
       "      <td>retired</td>\n",
       "      <td>married</td>\n",
       "      <td>basic.4y</td>\n",
       "      <td>0</td>\n",
       "      <td>0</td>\n",
       "      <td>no</td>\n",
       "      <td>cellular</td>\n",
       "      <td>aug</td>\n",
       "      <td>wed</td>\n",
       "      <td>687</td>\n",
       "      <td>2</td>\n",
       "      <td>999</td>\n",
       "      <td>0</td>\n",
       "      <td>nonexistent</td>\n",
       "      <td>1.4</td>\n",
       "      <td>93.444</td>\n",
       "      <td>-36.1</td>\n",
       "      <td>4.964</td>\n",
       "      <td>5228.1</td>\n",
       "    </tr>\n",
       "    <tr>\n",
       "      <th>...</th>\n",
       "      <td>...</td>\n",
       "      <td>...</td>\n",
       "      <td>...</td>\n",
       "      <td>...</td>\n",
       "      <td>...</td>\n",
       "      <td>...</td>\n",
       "      <td>...</td>\n",
       "      <td>...</td>\n",
       "      <td>...</td>\n",
       "      <td>...</td>\n",
       "      <td>...</td>\n",
       "      <td>...</td>\n",
       "      <td>...</td>\n",
       "      <td>...</td>\n",
       "      <td>...</td>\n",
       "      <td>...</td>\n",
       "      <td>...</td>\n",
       "      <td>...</td>\n",
       "      <td>...</td>\n",
       "      <td>...</td>\n",
       "    </tr>\n",
       "    <tr>\n",
       "      <th>2895</th>\n",
       "      <td>30</td>\n",
       "      <td>blue-collar</td>\n",
       "      <td>single</td>\n",
       "      <td>basic.9y</td>\n",
       "      <td>0</td>\n",
       "      <td>1</td>\n",
       "      <td>no</td>\n",
       "      <td>cellular</td>\n",
       "      <td>nov</td>\n",
       "      <td>thu</td>\n",
       "      <td>71</td>\n",
       "      <td>2</td>\n",
       "      <td>999</td>\n",
       "      <td>0</td>\n",
       "      <td>nonexistent</td>\n",
       "      <td>-0.1</td>\n",
       "      <td>93.200</td>\n",
       "      <td>-42.0</td>\n",
       "      <td>4.076</td>\n",
       "      <td>5195.8</td>\n",
       "    </tr>\n",
       "    <tr>\n",
       "      <th>2763</th>\n",
       "      <td>23</td>\n",
       "      <td>blue-collar</td>\n",
       "      <td>single</td>\n",
       "      <td>basic.9y</td>\n",
       "      <td>0</td>\n",
       "      <td>0</td>\n",
       "      <td>no</td>\n",
       "      <td>cellular</td>\n",
       "      <td>jul</td>\n",
       "      <td>thu</td>\n",
       "      <td>250</td>\n",
       "      <td>4</td>\n",
       "      <td>999</td>\n",
       "      <td>1</td>\n",
       "      <td>failure</td>\n",
       "      <td>-1.7</td>\n",
       "      <td>94.215</td>\n",
       "      <td>-40.3</td>\n",
       "      <td>0.846</td>\n",
       "      <td>4991.6</td>\n",
       "    </tr>\n",
       "    <tr>\n",
       "      <th>905</th>\n",
       "      <td>77</td>\n",
       "      <td>retired</td>\n",
       "      <td>divorced</td>\n",
       "      <td>professional.course</td>\n",
       "      <td>0</td>\n",
       "      <td>0</td>\n",
       "      <td>no</td>\n",
       "      <td>cellular</td>\n",
       "      <td>aug</td>\n",
       "      <td>mon</td>\n",
       "      <td>258</td>\n",
       "      <td>1</td>\n",
       "      <td>999</td>\n",
       "      <td>0</td>\n",
       "      <td>nonexistent</td>\n",
       "      <td>-1.7</td>\n",
       "      <td>94.027</td>\n",
       "      <td>-38.3</td>\n",
       "      <td>0.898</td>\n",
       "      <td>4991.6</td>\n",
       "    </tr>\n",
       "    <tr>\n",
       "      <th>3980</th>\n",
       "      <td>43</td>\n",
       "      <td>blue-collar</td>\n",
       "      <td>married</td>\n",
       "      <td>basic.6y</td>\n",
       "      <td>0</td>\n",
       "      <td>1</td>\n",
       "      <td>no</td>\n",
       "      <td>cellular</td>\n",
       "      <td>jun</td>\n",
       "      <td>mon</td>\n",
       "      <td>458</td>\n",
       "      <td>6</td>\n",
       "      <td>999</td>\n",
       "      <td>0</td>\n",
       "      <td>nonexistent</td>\n",
       "      <td>-2.9</td>\n",
       "      <td>92.963</td>\n",
       "      <td>-40.8</td>\n",
       "      <td>1.281</td>\n",
       "      <td>5076.2</td>\n",
       "    </tr>\n",
       "    <tr>\n",
       "      <th>235</th>\n",
       "      <td>28</td>\n",
       "      <td>blue-collar</td>\n",
       "      <td>married</td>\n",
       "      <td>basic.9y</td>\n",
       "      <td>0</td>\n",
       "      <td>1</td>\n",
       "      <td>no</td>\n",
       "      <td>cellular</td>\n",
       "      <td>jul</td>\n",
       "      <td>mon</td>\n",
       "      <td>225</td>\n",
       "      <td>3</td>\n",
       "      <td>999</td>\n",
       "      <td>0</td>\n",
       "      <td>nonexistent</td>\n",
       "      <td>1.4</td>\n",
       "      <td>93.918</td>\n",
       "      <td>-42.7</td>\n",
       "      <td>4.960</td>\n",
       "      <td>5228.1</td>\n",
       "    </tr>\n",
       "  </tbody>\n",
       "</table>\n",
       "<p>3089 rows × 20 columns</p>\n",
       "</div>"
      ],
      "text/plain": [
       "      age           job   marital            education  default  housing loan  \\\n",
       "3306   35  entrepreneur   married          high.school        0        1   no   \n",
       "137    34        admin.   married    university.degree        0        0   no   \n",
       "973    49    unemployed   married  professional.course        0        0   no   \n",
       "797    23        admin.    single    university.degree        0        1   no   \n",
       "1333   56       retired   married             basic.4y        0        0   no   \n",
       "...   ...           ...       ...                  ...      ...      ...  ...   \n",
       "2895   30   blue-collar    single             basic.9y        0        1   no   \n",
       "2763   23   blue-collar    single             basic.9y        0        0   no   \n",
       "905    77       retired  divorced  professional.course        0        0   no   \n",
       "3980   43   blue-collar   married             basic.6y        0        1   no   \n",
       "235    28   blue-collar   married             basic.9y        0        1   no   \n",
       "\n",
       "       contact month day_of_week  duration  campaign  pdays  previous  \\\n",
       "3306  cellular   nov         mon       131         2    999         0   \n",
       "137   cellular   nov         mon       141         2    999         0   \n",
       "973   cellular   jun         fri       317         1    999         0   \n",
       "797   cellular   jul         wed       104         1    999         2   \n",
       "1333  cellular   aug         wed       687         2    999         0   \n",
       "...        ...   ...         ...       ...       ...    ...       ...   \n",
       "2895  cellular   nov         thu        71         2    999         0   \n",
       "2763  cellular   jul         thu       250         4    999         1   \n",
       "905   cellular   aug         mon       258         1    999         0   \n",
       "3980  cellular   jun         mon       458         6    999         0   \n",
       "235   cellular   jul         mon       225         3    999         0   \n",
       "\n",
       "         poutcome  emp.var.rate  cons.price.idx  cons.conf.idx  euribor3m  \\\n",
       "3306  nonexistent          -0.1          93.200          -42.0      4.191   \n",
       "137   nonexistent          -1.1          94.767          -50.8      1.050   \n",
       "973   nonexistent          -2.9          92.963          -40.8      1.268   \n",
       "797       failure          -1.7          94.215          -40.3      0.881   \n",
       "1333  nonexistent           1.4          93.444          -36.1      4.964   \n",
       "...           ...           ...             ...            ...        ...   \n",
       "2895  nonexistent          -0.1          93.200          -42.0      4.076   \n",
       "2763      failure          -1.7          94.215          -40.3      0.846   \n",
       "905   nonexistent          -1.7          94.027          -38.3      0.898   \n",
       "3980  nonexistent          -2.9          92.963          -40.8      1.281   \n",
       "235   nonexistent           1.4          93.918          -42.7      4.960   \n",
       "\n",
       "      nr.employed  \n",
       "3306       5195.8  \n",
       "137        4963.6  \n",
       "973        5076.2  \n",
       "797        4991.6  \n",
       "1333       5228.1  \n",
       "...           ...  \n",
       "2895       5195.8  \n",
       "2763       4991.6  \n",
       "905        4991.6  \n",
       "3980       5076.2  \n",
       "235        5228.1  \n",
       "\n",
       "[3089 rows x 20 columns]"
      ]
     },
     "execution_count": 159,
     "metadata": {},
     "output_type": "execute_result"
    }
   ],
   "source": [
    "X_train.housing = np.where(X_train.housing == 'yes', 1, 0)\n",
    "X_test.housing = np.where(X_test.housing == 'yes', 1, 0)\n",
    "X_train"
   ]
  },
  {
   "cell_type": "code",
   "execution_count": 161,
   "id": "e2383a1b-9918-458c-b734-8f5c39ebfa6d",
   "metadata": {
    "collapsed": true,
    "jupyter": {
     "outputs_hidden": true
    },
    "tags": []
   },
   "outputs": [
    {
     "data": {
      "text/html": [
       "<div>\n",
       "<style scoped>\n",
       "    .dataframe tbody tr th:only-of-type {\n",
       "        vertical-align: middle;\n",
       "    }\n",
       "\n",
       "    .dataframe tbody tr th {\n",
       "        vertical-align: top;\n",
       "    }\n",
       "\n",
       "    .dataframe thead th {\n",
       "        text-align: right;\n",
       "    }\n",
       "</style>\n",
       "<table border=\"1\" class=\"dataframe\">\n",
       "  <thead>\n",
       "    <tr style=\"text-align: right;\">\n",
       "      <th></th>\n",
       "      <th>age</th>\n",
       "      <th>job</th>\n",
       "      <th>marital</th>\n",
       "      <th>education</th>\n",
       "      <th>default</th>\n",
       "      <th>housing</th>\n",
       "      <th>loan</th>\n",
       "      <th>contact</th>\n",
       "      <th>month</th>\n",
       "      <th>day_of_week</th>\n",
       "      <th>duration</th>\n",
       "      <th>campaign</th>\n",
       "      <th>pdays</th>\n",
       "      <th>previous</th>\n",
       "      <th>poutcome</th>\n",
       "      <th>emp.var.rate</th>\n",
       "      <th>cons.price.idx</th>\n",
       "      <th>cons.conf.idx</th>\n",
       "      <th>euribor3m</th>\n",
       "      <th>nr.employed</th>\n",
       "    </tr>\n",
       "  </thead>\n",
       "  <tbody>\n",
       "    <tr>\n",
       "      <th>3306</th>\n",
       "      <td>35</td>\n",
       "      <td>entrepreneur</td>\n",
       "      <td>married</td>\n",
       "      <td>high.school</td>\n",
       "      <td>0</td>\n",
       "      <td>1</td>\n",
       "      <td>0</td>\n",
       "      <td>cellular</td>\n",
       "      <td>nov</td>\n",
       "      <td>mon</td>\n",
       "      <td>131</td>\n",
       "      <td>2</td>\n",
       "      <td>999</td>\n",
       "      <td>0</td>\n",
       "      <td>nonexistent</td>\n",
       "      <td>-0.1</td>\n",
       "      <td>93.200</td>\n",
       "      <td>-42.0</td>\n",
       "      <td>4.191</td>\n",
       "      <td>5195.8</td>\n",
       "    </tr>\n",
       "    <tr>\n",
       "      <th>137</th>\n",
       "      <td>34</td>\n",
       "      <td>admin.</td>\n",
       "      <td>married</td>\n",
       "      <td>university.degree</td>\n",
       "      <td>0</td>\n",
       "      <td>0</td>\n",
       "      <td>0</td>\n",
       "      <td>cellular</td>\n",
       "      <td>nov</td>\n",
       "      <td>mon</td>\n",
       "      <td>141</td>\n",
       "      <td>2</td>\n",
       "      <td>999</td>\n",
       "      <td>0</td>\n",
       "      <td>nonexistent</td>\n",
       "      <td>-1.1</td>\n",
       "      <td>94.767</td>\n",
       "      <td>-50.8</td>\n",
       "      <td>1.050</td>\n",
       "      <td>4963.6</td>\n",
       "    </tr>\n",
       "    <tr>\n",
       "      <th>973</th>\n",
       "      <td>49</td>\n",
       "      <td>unemployed</td>\n",
       "      <td>married</td>\n",
       "      <td>professional.course</td>\n",
       "      <td>0</td>\n",
       "      <td>0</td>\n",
       "      <td>0</td>\n",
       "      <td>cellular</td>\n",
       "      <td>jun</td>\n",
       "      <td>fri</td>\n",
       "      <td>317</td>\n",
       "      <td>1</td>\n",
       "      <td>999</td>\n",
       "      <td>0</td>\n",
       "      <td>nonexistent</td>\n",
       "      <td>-2.9</td>\n",
       "      <td>92.963</td>\n",
       "      <td>-40.8</td>\n",
       "      <td>1.268</td>\n",
       "      <td>5076.2</td>\n",
       "    </tr>\n",
       "    <tr>\n",
       "      <th>797</th>\n",
       "      <td>23</td>\n",
       "      <td>admin.</td>\n",
       "      <td>single</td>\n",
       "      <td>university.degree</td>\n",
       "      <td>0</td>\n",
       "      <td>1</td>\n",
       "      <td>0</td>\n",
       "      <td>cellular</td>\n",
       "      <td>jul</td>\n",
       "      <td>wed</td>\n",
       "      <td>104</td>\n",
       "      <td>1</td>\n",
       "      <td>999</td>\n",
       "      <td>2</td>\n",
       "      <td>failure</td>\n",
       "      <td>-1.7</td>\n",
       "      <td>94.215</td>\n",
       "      <td>-40.3</td>\n",
       "      <td>0.881</td>\n",
       "      <td>4991.6</td>\n",
       "    </tr>\n",
       "    <tr>\n",
       "      <th>1333</th>\n",
       "      <td>56</td>\n",
       "      <td>retired</td>\n",
       "      <td>married</td>\n",
       "      <td>basic.4y</td>\n",
       "      <td>0</td>\n",
       "      <td>0</td>\n",
       "      <td>0</td>\n",
       "      <td>cellular</td>\n",
       "      <td>aug</td>\n",
       "      <td>wed</td>\n",
       "      <td>687</td>\n",
       "      <td>2</td>\n",
       "      <td>999</td>\n",
       "      <td>0</td>\n",
       "      <td>nonexistent</td>\n",
       "      <td>1.4</td>\n",
       "      <td>93.444</td>\n",
       "      <td>-36.1</td>\n",
       "      <td>4.964</td>\n",
       "      <td>5228.1</td>\n",
       "    </tr>\n",
       "    <tr>\n",
       "      <th>...</th>\n",
       "      <td>...</td>\n",
       "      <td>...</td>\n",
       "      <td>...</td>\n",
       "      <td>...</td>\n",
       "      <td>...</td>\n",
       "      <td>...</td>\n",
       "      <td>...</td>\n",
       "      <td>...</td>\n",
       "      <td>...</td>\n",
       "      <td>...</td>\n",
       "      <td>...</td>\n",
       "      <td>...</td>\n",
       "      <td>...</td>\n",
       "      <td>...</td>\n",
       "      <td>...</td>\n",
       "      <td>...</td>\n",
       "      <td>...</td>\n",
       "      <td>...</td>\n",
       "      <td>...</td>\n",
       "      <td>...</td>\n",
       "    </tr>\n",
       "    <tr>\n",
       "      <th>2895</th>\n",
       "      <td>30</td>\n",
       "      <td>blue-collar</td>\n",
       "      <td>single</td>\n",
       "      <td>basic.9y</td>\n",
       "      <td>0</td>\n",
       "      <td>1</td>\n",
       "      <td>0</td>\n",
       "      <td>cellular</td>\n",
       "      <td>nov</td>\n",
       "      <td>thu</td>\n",
       "      <td>71</td>\n",
       "      <td>2</td>\n",
       "      <td>999</td>\n",
       "      <td>0</td>\n",
       "      <td>nonexistent</td>\n",
       "      <td>-0.1</td>\n",
       "      <td>93.200</td>\n",
       "      <td>-42.0</td>\n",
       "      <td>4.076</td>\n",
       "      <td>5195.8</td>\n",
       "    </tr>\n",
       "    <tr>\n",
       "      <th>2763</th>\n",
       "      <td>23</td>\n",
       "      <td>blue-collar</td>\n",
       "      <td>single</td>\n",
       "      <td>basic.9y</td>\n",
       "      <td>0</td>\n",
       "      <td>0</td>\n",
       "      <td>0</td>\n",
       "      <td>cellular</td>\n",
       "      <td>jul</td>\n",
       "      <td>thu</td>\n",
       "      <td>250</td>\n",
       "      <td>4</td>\n",
       "      <td>999</td>\n",
       "      <td>1</td>\n",
       "      <td>failure</td>\n",
       "      <td>-1.7</td>\n",
       "      <td>94.215</td>\n",
       "      <td>-40.3</td>\n",
       "      <td>0.846</td>\n",
       "      <td>4991.6</td>\n",
       "    </tr>\n",
       "    <tr>\n",
       "      <th>905</th>\n",
       "      <td>77</td>\n",
       "      <td>retired</td>\n",
       "      <td>divorced</td>\n",
       "      <td>professional.course</td>\n",
       "      <td>0</td>\n",
       "      <td>0</td>\n",
       "      <td>0</td>\n",
       "      <td>cellular</td>\n",
       "      <td>aug</td>\n",
       "      <td>mon</td>\n",
       "      <td>258</td>\n",
       "      <td>1</td>\n",
       "      <td>999</td>\n",
       "      <td>0</td>\n",
       "      <td>nonexistent</td>\n",
       "      <td>-1.7</td>\n",
       "      <td>94.027</td>\n",
       "      <td>-38.3</td>\n",
       "      <td>0.898</td>\n",
       "      <td>4991.6</td>\n",
       "    </tr>\n",
       "    <tr>\n",
       "      <th>3980</th>\n",
       "      <td>43</td>\n",
       "      <td>blue-collar</td>\n",
       "      <td>married</td>\n",
       "      <td>basic.6y</td>\n",
       "      <td>0</td>\n",
       "      <td>1</td>\n",
       "      <td>0</td>\n",
       "      <td>cellular</td>\n",
       "      <td>jun</td>\n",
       "      <td>mon</td>\n",
       "      <td>458</td>\n",
       "      <td>6</td>\n",
       "      <td>999</td>\n",
       "      <td>0</td>\n",
       "      <td>nonexistent</td>\n",
       "      <td>-2.9</td>\n",
       "      <td>92.963</td>\n",
       "      <td>-40.8</td>\n",
       "      <td>1.281</td>\n",
       "      <td>5076.2</td>\n",
       "    </tr>\n",
       "    <tr>\n",
       "      <th>235</th>\n",
       "      <td>28</td>\n",
       "      <td>blue-collar</td>\n",
       "      <td>married</td>\n",
       "      <td>basic.9y</td>\n",
       "      <td>0</td>\n",
       "      <td>1</td>\n",
       "      <td>0</td>\n",
       "      <td>cellular</td>\n",
       "      <td>jul</td>\n",
       "      <td>mon</td>\n",
       "      <td>225</td>\n",
       "      <td>3</td>\n",
       "      <td>999</td>\n",
       "      <td>0</td>\n",
       "      <td>nonexistent</td>\n",
       "      <td>1.4</td>\n",
       "      <td>93.918</td>\n",
       "      <td>-42.7</td>\n",
       "      <td>4.960</td>\n",
       "      <td>5228.1</td>\n",
       "    </tr>\n",
       "  </tbody>\n",
       "</table>\n",
       "<p>3089 rows × 20 columns</p>\n",
       "</div>"
      ],
      "text/plain": [
       "      age           job   marital            education  default  housing  \\\n",
       "3306   35  entrepreneur   married          high.school        0        1   \n",
       "137    34        admin.   married    university.degree        0        0   \n",
       "973    49    unemployed   married  professional.course        0        0   \n",
       "797    23        admin.    single    university.degree        0        1   \n",
       "1333   56       retired   married             basic.4y        0        0   \n",
       "...   ...           ...       ...                  ...      ...      ...   \n",
       "2895   30   blue-collar    single             basic.9y        0        1   \n",
       "2763   23   blue-collar    single             basic.9y        0        0   \n",
       "905    77       retired  divorced  professional.course        0        0   \n",
       "3980   43   blue-collar   married             basic.6y        0        1   \n",
       "235    28   blue-collar   married             basic.9y        0        1   \n",
       "\n",
       "      loan   contact month day_of_week  duration  campaign  pdays  previous  \\\n",
       "3306     0  cellular   nov         mon       131         2    999         0   \n",
       "137      0  cellular   nov         mon       141         2    999         0   \n",
       "973      0  cellular   jun         fri       317         1    999         0   \n",
       "797      0  cellular   jul         wed       104         1    999         2   \n",
       "1333     0  cellular   aug         wed       687         2    999         0   \n",
       "...    ...       ...   ...         ...       ...       ...    ...       ...   \n",
       "2895     0  cellular   nov         thu        71         2    999         0   \n",
       "2763     0  cellular   jul         thu       250         4    999         1   \n",
       "905      0  cellular   aug         mon       258         1    999         0   \n",
       "3980     0  cellular   jun         mon       458         6    999         0   \n",
       "235      0  cellular   jul         mon       225         3    999         0   \n",
       "\n",
       "         poutcome  emp.var.rate  cons.price.idx  cons.conf.idx  euribor3m  \\\n",
       "3306  nonexistent          -0.1          93.200          -42.0      4.191   \n",
       "137   nonexistent          -1.1          94.767          -50.8      1.050   \n",
       "973   nonexistent          -2.9          92.963          -40.8      1.268   \n",
       "797       failure          -1.7          94.215          -40.3      0.881   \n",
       "1333  nonexistent           1.4          93.444          -36.1      4.964   \n",
       "...           ...           ...             ...            ...        ...   \n",
       "2895  nonexistent          -0.1          93.200          -42.0      4.076   \n",
       "2763      failure          -1.7          94.215          -40.3      0.846   \n",
       "905   nonexistent          -1.7          94.027          -38.3      0.898   \n",
       "3980  nonexistent          -2.9          92.963          -40.8      1.281   \n",
       "235   nonexistent           1.4          93.918          -42.7      4.960   \n",
       "\n",
       "      nr.employed  \n",
       "3306       5195.8  \n",
       "137        4963.6  \n",
       "973        5076.2  \n",
       "797        4991.6  \n",
       "1333       5228.1  \n",
       "...           ...  \n",
       "2895       5195.8  \n",
       "2763       4991.6  \n",
       "905        4991.6  \n",
       "3980       5076.2  \n",
       "235        5228.1  \n",
       "\n",
       "[3089 rows x 20 columns]"
      ]
     },
     "execution_count": 161,
     "metadata": {},
     "output_type": "execute_result"
    }
   ],
   "source": [
    "X_train.loan = np.where(X_train.loan == 'yes', 1, 0)\n",
    "X_test.loan = np.where(X_test.loan == 'yes', 1, 0)\n",
    "X_train"
   ]
  },
  {
   "cell_type": "markdown",
   "id": "9afcb5b5-ae76-4151-b553-cc3ad3bd34ad",
   "metadata": {},
   "source": [
    "## Modificar resto de categoricas"
   ]
  },
  {
   "cell_type": "code",
   "execution_count": null,
   "id": "36075376-5bd9-4d63-81c0-51d84f6d7903",
   "metadata": {},
   "outputs": [],
   "source": [
    "# Entender cuales son los valores únicos de una vriable categorica\n",
    "# para saber como sustituirlos y si es posible agruparlos antes de sustituirlos"
   ]
  },
  {
   "cell_type": "code",
   "execution_count": 50,
   "id": "ba5460b2-ed8a-4eeb-9635-0ba608b5393e",
   "metadata": {
    "tags": []
   },
   "outputs": [
    {
     "data": {
      "text/plain": [
       "array(['high.school', 'university.degree', 'professional.course',\n",
       "       'basic.4y', 'basic.9y', 'unknown', 'basic.6y', 'illiterate'],\n",
       "      dtype=object)"
      ]
     },
     "execution_count": 50,
     "metadata": {},
     "output_type": "execute_result"
    }
   ],
   "source": [
    "X_train.education.unique()"
   ]
  },
  {
   "cell_type": "code",
   "execution_count": 163,
   "id": "a9ebdabd-5bfd-4444-9066-8841589702da",
   "metadata": {
    "tags": []
   },
   "outputs": [],
   "source": [
    "X_train.education = X_train.education.map({'high.school': 'High School',\n",
    "                                           'university.degree': 'Universitario',\n",
    "                                           'professional.course': 'Profesional',\n",
    "                                            'basic.4y' : 'Basic',\n",
    "                                            'basic.9y': 'Basic', \n",
    "                                           'unknown': 'Desconocido', \n",
    "                                           'basic.6y' : 'Basic', \n",
    "                                           'illiterate':'Iliterate'})\n",
    "                                           \n"
   ]
  },
  {
   "cell_type": "code",
   "execution_count": 165,
   "id": "983e1703-043e-415f-a46b-390901aca431",
   "metadata": {
    "tags": []
   },
   "outputs": [],
   "source": [
    "X_test.education = X_test.education.map({'high.school': 'High School',\n",
    "                                           'university.degree': 'Universitario',\n",
    "                                           'professional.course': 'Profesional',\n",
    "                                            'basic.4y' : 'Basic',\n",
    "                                            'basic.9y': 'Basic', \n",
    "                                           'unknown': 'Desconocido', \n",
    "                                           'basic.6y' : 'Basic', \n",
    "                                           'illiterate':'Iliterate'})"
   ]
  },
  {
   "cell_type": "code",
   "execution_count": 58,
   "id": "4fa4c84c-289d-4407-905c-e93b6cef39c3",
   "metadata": {
    "tags": []
   },
   "outputs": [
    {
     "data": {
      "text/plain": [
       "array(['High School', 'Universitario', 'Profesional', 'Basic',\n",
       "       'Desconocido', 'Iliterate'], dtype=object)"
      ]
     },
     "execution_count": 58,
     "metadata": {},
     "output_type": "execute_result"
    }
   ],
   "source": [
    "X_train.education.unique()"
   ]
  },
  {
   "cell_type": "code",
   "execution_count": 62,
   "id": "cb134ac6-87a6-40cf-9d70-d7ed33a5abed",
   "metadata": {
    "tags": []
   },
   "outputs": [
    {
     "data": {
      "text/plain": [
       "array(['Basic', 'Universitario', 'High School', 'Profesional',\n",
       "       'Desconocido'], dtype=object)"
      ]
     },
     "execution_count": 62,
     "metadata": {},
     "output_type": "execute_result"
    }
   ],
   "source": [
    "X_test.education.unique()"
   ]
  },
  {
   "cell_type": "code",
   "execution_count": null,
   "id": "ef897d9b-8893-45c6-87e9-76cfc8bbc865",
   "metadata": {},
   "outputs": [],
   "source": [
    "# X_test no tiene iliterate porque solo hay 1 y ha caido en X_train"
   ]
  },
  {
   "cell_type": "code",
   "execution_count": 66,
   "id": "87a3dfc5-5ea1-4c8d-b8dd-af75de2762c8",
   "metadata": {
    "tags": []
   },
   "outputs": [
    {
     "data": {
      "text/html": [
       "<div>\n",
       "<style scoped>\n",
       "    .dataframe tbody tr th:only-of-type {\n",
       "        vertical-align: middle;\n",
       "    }\n",
       "\n",
       "    .dataframe tbody tr th {\n",
       "        vertical-align: top;\n",
       "    }\n",
       "\n",
       "    .dataframe thead th {\n",
       "        text-align: right;\n",
       "    }\n",
       "</style>\n",
       "<table border=\"1\" class=\"dataframe\">\n",
       "  <thead>\n",
       "    <tr style=\"text-align: right;\">\n",
       "      <th></th>\n",
       "      <th>age</th>\n",
       "      <th>job</th>\n",
       "      <th>marital</th>\n",
       "      <th>education</th>\n",
       "      <th>default</th>\n",
       "      <th>housing</th>\n",
       "      <th>loan</th>\n",
       "      <th>contact</th>\n",
       "      <th>month</th>\n",
       "      <th>day_of_week</th>\n",
       "      <th>duration</th>\n",
       "      <th>campaign</th>\n",
       "      <th>pdays</th>\n",
       "      <th>previous</th>\n",
       "      <th>poutcome</th>\n",
       "      <th>emp.var.rate</th>\n",
       "      <th>cons.price.idx</th>\n",
       "      <th>cons.conf.idx</th>\n",
       "      <th>euribor3m</th>\n",
       "      <th>nr.employed</th>\n",
       "    </tr>\n",
       "  </thead>\n",
       "  <tbody>\n",
       "    <tr>\n",
       "      <th>3306</th>\n",
       "      <td>35</td>\n",
       "      <td>entrepreneur</td>\n",
       "      <td>married</td>\n",
       "      <td>High School</td>\n",
       "      <td>0</td>\n",
       "      <td>1</td>\n",
       "      <td>0</td>\n",
       "      <td>cellular</td>\n",
       "      <td>nov</td>\n",
       "      <td>mon</td>\n",
       "      <td>131</td>\n",
       "      <td>2</td>\n",
       "      <td>999</td>\n",
       "      <td>0</td>\n",
       "      <td>nonexistent</td>\n",
       "      <td>-0.1</td>\n",
       "      <td>93.200</td>\n",
       "      <td>-42.0</td>\n",
       "      <td>4.191</td>\n",
       "      <td>5195.8</td>\n",
       "    </tr>\n",
       "    <tr>\n",
       "      <th>137</th>\n",
       "      <td>34</td>\n",
       "      <td>admin.</td>\n",
       "      <td>married</td>\n",
       "      <td>Universitario</td>\n",
       "      <td>0</td>\n",
       "      <td>0</td>\n",
       "      <td>0</td>\n",
       "      <td>cellular</td>\n",
       "      <td>nov</td>\n",
       "      <td>mon</td>\n",
       "      <td>141</td>\n",
       "      <td>2</td>\n",
       "      <td>999</td>\n",
       "      <td>0</td>\n",
       "      <td>nonexistent</td>\n",
       "      <td>-1.1</td>\n",
       "      <td>94.767</td>\n",
       "      <td>-50.8</td>\n",
       "      <td>1.050</td>\n",
       "      <td>4963.6</td>\n",
       "    </tr>\n",
       "    <tr>\n",
       "      <th>973</th>\n",
       "      <td>49</td>\n",
       "      <td>unemployed</td>\n",
       "      <td>married</td>\n",
       "      <td>Profesional</td>\n",
       "      <td>0</td>\n",
       "      <td>0</td>\n",
       "      <td>0</td>\n",
       "      <td>cellular</td>\n",
       "      <td>jun</td>\n",
       "      <td>fri</td>\n",
       "      <td>317</td>\n",
       "      <td>1</td>\n",
       "      <td>999</td>\n",
       "      <td>0</td>\n",
       "      <td>nonexistent</td>\n",
       "      <td>-2.9</td>\n",
       "      <td>92.963</td>\n",
       "      <td>-40.8</td>\n",
       "      <td>1.268</td>\n",
       "      <td>5076.2</td>\n",
       "    </tr>\n",
       "    <tr>\n",
       "      <th>797</th>\n",
       "      <td>23</td>\n",
       "      <td>admin.</td>\n",
       "      <td>single</td>\n",
       "      <td>Universitario</td>\n",
       "      <td>0</td>\n",
       "      <td>1</td>\n",
       "      <td>0</td>\n",
       "      <td>cellular</td>\n",
       "      <td>jul</td>\n",
       "      <td>wed</td>\n",
       "      <td>104</td>\n",
       "      <td>1</td>\n",
       "      <td>999</td>\n",
       "      <td>2</td>\n",
       "      <td>failure</td>\n",
       "      <td>-1.7</td>\n",
       "      <td>94.215</td>\n",
       "      <td>-40.3</td>\n",
       "      <td>0.881</td>\n",
       "      <td>4991.6</td>\n",
       "    </tr>\n",
       "    <tr>\n",
       "      <th>1333</th>\n",
       "      <td>56</td>\n",
       "      <td>retired</td>\n",
       "      <td>married</td>\n",
       "      <td>Basic</td>\n",
       "      <td>0</td>\n",
       "      <td>0</td>\n",
       "      <td>0</td>\n",
       "      <td>cellular</td>\n",
       "      <td>aug</td>\n",
       "      <td>wed</td>\n",
       "      <td>687</td>\n",
       "      <td>2</td>\n",
       "      <td>999</td>\n",
       "      <td>0</td>\n",
       "      <td>nonexistent</td>\n",
       "      <td>1.4</td>\n",
       "      <td>93.444</td>\n",
       "      <td>-36.1</td>\n",
       "      <td>4.964</td>\n",
       "      <td>5228.1</td>\n",
       "    </tr>\n",
       "  </tbody>\n",
       "</table>\n",
       "</div>"
      ],
      "text/plain": [
       "      age           job  marital      education  default  housing  loan  \\\n",
       "3306   35  entrepreneur  married    High School        0        1     0   \n",
       "137    34        admin.  married  Universitario        0        0     0   \n",
       "973    49    unemployed  married    Profesional        0        0     0   \n",
       "797    23        admin.   single  Universitario        0        1     0   \n",
       "1333   56       retired  married          Basic        0        0     0   \n",
       "\n",
       "       contact month day_of_week  duration  campaign  pdays  previous  \\\n",
       "3306  cellular   nov         mon       131         2    999         0   \n",
       "137   cellular   nov         mon       141         2    999         0   \n",
       "973   cellular   jun         fri       317         1    999         0   \n",
       "797   cellular   jul         wed       104         1    999         2   \n",
       "1333  cellular   aug         wed       687         2    999         0   \n",
       "\n",
       "         poutcome  emp.var.rate  cons.price.idx  cons.conf.idx  euribor3m  \\\n",
       "3306  nonexistent          -0.1          93.200          -42.0      4.191   \n",
       "137   nonexistent          -1.1          94.767          -50.8      1.050   \n",
       "973   nonexistent          -2.9          92.963          -40.8      1.268   \n",
       "797       failure          -1.7          94.215          -40.3      0.881   \n",
       "1333  nonexistent           1.4          93.444          -36.1      4.964   \n",
       "\n",
       "      nr.employed  \n",
       "3306       5195.8  \n",
       "137        4963.6  \n",
       "973        5076.2  \n",
       "797        4991.6  \n",
       "1333       5228.1  "
      ]
     },
     "execution_count": 66,
     "metadata": {},
     "output_type": "execute_result"
    }
   ],
   "source": [
    "X_train.head()"
   ]
  },
  {
   "cell_type": "code",
   "execution_count": 68,
   "id": "f38688dc-8864-4bd6-80c8-1957001ce542",
   "metadata": {
    "tags": []
   },
   "outputs": [
    {
     "data": {
      "text/plain": [
       "Index(['age', 'job', 'marital', 'education', 'default', 'housing', 'loan',\n",
       "       'contact', 'month', 'day_of_week', 'duration', 'campaign', 'pdays',\n",
       "       'previous', 'poutcome', 'emp.var.rate', 'cons.price.idx',\n",
       "       'cons.conf.idx', 'euribor3m', 'nr.employed'],\n",
       "      dtype='object')"
      ]
     },
     "execution_count": 68,
     "metadata": {},
     "output_type": "execute_result"
    }
   ],
   "source": [
    "X_train.columns"
   ]
  },
  {
   "cell_type": "code",
   "execution_count": 70,
   "id": "1630f859-0b04-4f37-b44c-17705e956209",
   "metadata": {
    "tags": []
   },
   "outputs": [
    {
     "data": {
      "text/plain": [
       "20"
      ]
     },
     "execution_count": 70,
     "metadata": {},
     "output_type": "execute_result"
    }
   ],
   "source": [
    "len(X_train.columns)"
   ]
  },
  {
   "cell_type": "code",
   "execution_count": 83,
   "id": "aa40ac82-2c70-4667-909a-8a7d7c95b603",
   "metadata": {
    "tags": []
   },
   "outputs": [
    {
     "name": "stdout",
     "output_type": "stream",
     "text": [
      "age: <class 'numpy.int64'>\n",
      "job: <class 'str'>\n",
      "marital: <class 'str'>\n",
      "education: <class 'str'>\n",
      "default: <class 'numpy.int32'>\n",
      "housing: <class 'numpy.int32'>\n",
      "loan: <class 'numpy.int32'>\n",
      "contact: <class 'str'>\n",
      "month: <class 'str'>\n",
      "day_of_week: <class 'str'>\n",
      "duration: <class 'numpy.int64'>\n",
      "campaign: <class 'numpy.int64'>\n",
      "pdays: <class 'numpy.int64'>\n",
      "previous: <class 'numpy.int64'>\n",
      "poutcome: <class 'str'>\n",
      "emp.var.rate: <class 'numpy.float64'>\n",
      "cons.price.idx: <class 'numpy.float64'>\n",
      "cons.conf.idx: <class 'numpy.float64'>\n",
      "euribor3m: <class 'numpy.float64'>\n",
      "nr.employed: <class 'numpy.float64'>\n"
     ]
    }
   ],
   "source": [
    "for i in X_train.columns:\n",
    "    print(f'{i}: {type(X_train[i][0])}')"
   ]
  },
  {
   "cell_type": "markdown",
   "id": "5f29dd2a-329c-4657-bb46-27e135c01d0f",
   "metadata": {},
   "source": [
    "## Generacion de Dummies"
   ]
  },
  {
   "cell_type": "code",
   "execution_count": null,
   "id": "1a427500-0abf-452b-a444-a2c202478237",
   "metadata": {},
   "outputs": [],
   "source": [
    "# Crear dummies para las variables categóricas"
   ]
  },
  {
   "cell_type": "code",
   "execution_count": 167,
   "id": "27a80794-99aa-4b63-a844-4ca39d144355",
   "metadata": {
    "tags": []
   },
   "outputs": [],
   "source": [
    "X_train = pd.get_dummies(X_train, \n",
    "                         columns = [\"job\", \"marital\", \"education\", \"contact\", \"month\", \"day_of_week\",\n",
    "              \"poutcome\"],\n",
    "    drop_first = True)"
   ]
  },
  {
   "cell_type": "code",
   "execution_count": 169,
   "id": "146cab86-4ea3-4a18-b209-91b519f6fd0d",
   "metadata": {
    "tags": []
   },
   "outputs": [
    {
     "data": {
      "text/plain": [
       "Index(['age', 'default', 'housing', 'loan', 'duration', 'campaign', 'pdays',\n",
       "       'previous', 'emp.var.rate', 'cons.price.idx', 'cons.conf.idx',\n",
       "       'euribor3m', 'nr.employed', 'job_blue-collar', 'job_entrepreneur',\n",
       "       'job_housemaid', 'job_management', 'job_retired', 'job_self-employed',\n",
       "       'job_services', 'job_student', 'job_technician', 'job_unemployed',\n",
       "       'job_unknown', 'marital_married', 'marital_single', 'marital_unknown',\n",
       "       'education_Desconocido', 'education_High School', 'education_Iliterate',\n",
       "       'education_Profesional', 'education_Universitario', 'contact_telephone',\n",
       "       'month_aug', 'month_dec', 'month_jul', 'month_jun', 'month_mar',\n",
       "       'month_may', 'month_nov', 'month_oct', 'month_sep', 'day_of_week_mon',\n",
       "       'day_of_week_thu', 'day_of_week_tue', 'day_of_week_wed',\n",
       "       'poutcome_nonexistent', 'poutcome_success'],\n",
       "      dtype='object')"
      ]
     },
     "execution_count": 169,
     "metadata": {},
     "output_type": "execute_result"
    }
   ],
   "source": [
    "X_train.columns"
   ]
  },
  {
   "cell_type": "code",
   "execution_count": 93,
   "id": "a319639b-d3a4-4298-9261-e651e16b06f0",
   "metadata": {
    "tags": []
   },
   "outputs": [
    {
     "data": {
      "text/html": [
       "<div>\n",
       "<style scoped>\n",
       "    .dataframe tbody tr th:only-of-type {\n",
       "        vertical-align: middle;\n",
       "    }\n",
       "\n",
       "    .dataframe tbody tr th {\n",
       "        vertical-align: top;\n",
       "    }\n",
       "\n",
       "    .dataframe thead th {\n",
       "        text-align: right;\n",
       "    }\n",
       "</style>\n",
       "<table border=\"1\" class=\"dataframe\">\n",
       "  <thead>\n",
       "    <tr style=\"text-align: right;\">\n",
       "      <th></th>\n",
       "      <th>age</th>\n",
       "      <th>default</th>\n",
       "      <th>housing</th>\n",
       "      <th>loan</th>\n",
       "      <th>duration</th>\n",
       "      <th>campaign</th>\n",
       "      <th>pdays</th>\n",
       "      <th>previous</th>\n",
       "      <th>emp.var.rate</th>\n",
       "      <th>cons.price.idx</th>\n",
       "      <th>...</th>\n",
       "      <th>month_may</th>\n",
       "      <th>month_nov</th>\n",
       "      <th>month_oct</th>\n",
       "      <th>month_sep</th>\n",
       "      <th>day_of_week_mon</th>\n",
       "      <th>day_of_week_thu</th>\n",
       "      <th>day_of_week_tue</th>\n",
       "      <th>day_of_week_wed</th>\n",
       "      <th>poutcome_nonexistent</th>\n",
       "      <th>poutcome_success</th>\n",
       "    </tr>\n",
       "  </thead>\n",
       "  <tbody>\n",
       "    <tr>\n",
       "      <th>3306</th>\n",
       "      <td>35</td>\n",
       "      <td>0</td>\n",
       "      <td>1</td>\n",
       "      <td>0</td>\n",
       "      <td>131</td>\n",
       "      <td>2</td>\n",
       "      <td>999</td>\n",
       "      <td>0</td>\n",
       "      <td>-0.1</td>\n",
       "      <td>93.200</td>\n",
       "      <td>...</td>\n",
       "      <td>False</td>\n",
       "      <td>True</td>\n",
       "      <td>False</td>\n",
       "      <td>False</td>\n",
       "      <td>True</td>\n",
       "      <td>False</td>\n",
       "      <td>False</td>\n",
       "      <td>False</td>\n",
       "      <td>True</td>\n",
       "      <td>False</td>\n",
       "    </tr>\n",
       "    <tr>\n",
       "      <th>137</th>\n",
       "      <td>34</td>\n",
       "      <td>0</td>\n",
       "      <td>0</td>\n",
       "      <td>0</td>\n",
       "      <td>141</td>\n",
       "      <td>2</td>\n",
       "      <td>999</td>\n",
       "      <td>0</td>\n",
       "      <td>-1.1</td>\n",
       "      <td>94.767</td>\n",
       "      <td>...</td>\n",
       "      <td>False</td>\n",
       "      <td>True</td>\n",
       "      <td>False</td>\n",
       "      <td>False</td>\n",
       "      <td>True</td>\n",
       "      <td>False</td>\n",
       "      <td>False</td>\n",
       "      <td>False</td>\n",
       "      <td>True</td>\n",
       "      <td>False</td>\n",
       "    </tr>\n",
       "    <tr>\n",
       "      <th>973</th>\n",
       "      <td>49</td>\n",
       "      <td>0</td>\n",
       "      <td>0</td>\n",
       "      <td>0</td>\n",
       "      <td>317</td>\n",
       "      <td>1</td>\n",
       "      <td>999</td>\n",
       "      <td>0</td>\n",
       "      <td>-2.9</td>\n",
       "      <td>92.963</td>\n",
       "      <td>...</td>\n",
       "      <td>False</td>\n",
       "      <td>False</td>\n",
       "      <td>False</td>\n",
       "      <td>False</td>\n",
       "      <td>False</td>\n",
       "      <td>False</td>\n",
       "      <td>False</td>\n",
       "      <td>False</td>\n",
       "      <td>True</td>\n",
       "      <td>False</td>\n",
       "    </tr>\n",
       "    <tr>\n",
       "      <th>797</th>\n",
       "      <td>23</td>\n",
       "      <td>0</td>\n",
       "      <td>1</td>\n",
       "      <td>0</td>\n",
       "      <td>104</td>\n",
       "      <td>1</td>\n",
       "      <td>999</td>\n",
       "      <td>2</td>\n",
       "      <td>-1.7</td>\n",
       "      <td>94.215</td>\n",
       "      <td>...</td>\n",
       "      <td>False</td>\n",
       "      <td>False</td>\n",
       "      <td>False</td>\n",
       "      <td>False</td>\n",
       "      <td>False</td>\n",
       "      <td>False</td>\n",
       "      <td>False</td>\n",
       "      <td>True</td>\n",
       "      <td>False</td>\n",
       "      <td>False</td>\n",
       "    </tr>\n",
       "    <tr>\n",
       "      <th>1333</th>\n",
       "      <td>56</td>\n",
       "      <td>0</td>\n",
       "      <td>0</td>\n",
       "      <td>0</td>\n",
       "      <td>687</td>\n",
       "      <td>2</td>\n",
       "      <td>999</td>\n",
       "      <td>0</td>\n",
       "      <td>1.4</td>\n",
       "      <td>93.444</td>\n",
       "      <td>...</td>\n",
       "      <td>False</td>\n",
       "      <td>False</td>\n",
       "      <td>False</td>\n",
       "      <td>False</td>\n",
       "      <td>False</td>\n",
       "      <td>False</td>\n",
       "      <td>False</td>\n",
       "      <td>True</td>\n",
       "      <td>True</td>\n",
       "      <td>False</td>\n",
       "    </tr>\n",
       "  </tbody>\n",
       "</table>\n",
       "<p>5 rows × 48 columns</p>\n",
       "</div>"
      ],
      "text/plain": [
       "      age  default  housing  loan  duration  campaign  pdays  previous  \\\n",
       "3306   35        0        1     0       131         2    999         0   \n",
       "137    34        0        0     0       141         2    999         0   \n",
       "973    49        0        0     0       317         1    999         0   \n",
       "797    23        0        1     0       104         1    999         2   \n",
       "1333   56        0        0     0       687         2    999         0   \n",
       "\n",
       "      emp.var.rate  cons.price.idx  ...  month_may  month_nov  month_oct  \\\n",
       "3306          -0.1          93.200  ...      False       True      False   \n",
       "137           -1.1          94.767  ...      False       True      False   \n",
       "973           -2.9          92.963  ...      False      False      False   \n",
       "797           -1.7          94.215  ...      False      False      False   \n",
       "1333           1.4          93.444  ...      False      False      False   \n",
       "\n",
       "      month_sep  day_of_week_mon  day_of_week_thu  day_of_week_tue  \\\n",
       "3306      False             True            False            False   \n",
       "137       False             True            False            False   \n",
       "973       False            False            False            False   \n",
       "797       False            False            False            False   \n",
       "1333      False            False            False            False   \n",
       "\n",
       "      day_of_week_wed  poutcome_nonexistent  poutcome_success  \n",
       "3306            False                  True             False  \n",
       "137             False                  True             False  \n",
       "973             False                  True             False  \n",
       "797              True                 False             False  \n",
       "1333             True                  True             False  \n",
       "\n",
       "[5 rows x 48 columns]"
      ]
     },
     "execution_count": 93,
     "metadata": {},
     "output_type": "execute_result"
    }
   ],
   "source": [
    "X_train.head()"
   ]
  },
  {
   "cell_type": "code",
   "execution_count": 171,
   "id": "7326a68b-8591-4251-9c12-4e2085f39b50",
   "metadata": {
    "tags": []
   },
   "outputs": [],
   "source": [
    "X_test = pd.get_dummies(X_test, \n",
    "                         columns = [\"job\", \"marital\", \"education\", \"contact\", \"month\", \"day_of_week\",\n",
    "              \"poutcome\"],\n",
    "    drop_first = True)"
   ]
  },
  {
   "cell_type": "code",
   "execution_count": 173,
   "id": "8aafc90d-56d8-44b4-88d6-0b3126e6edb2",
   "metadata": {
    "tags": []
   },
   "outputs": [
    {
     "data": {
      "text/plain": [
       "47"
      ]
     },
     "execution_count": 173,
     "metadata": {},
     "output_type": "execute_result"
    }
   ],
   "source": [
    "len(X_test.columns)"
   ]
  },
  {
   "cell_type": "code",
   "execution_count": 175,
   "id": "a9f6a64a-2f35-4deb-8894-bdc4e0dd8c92",
   "metadata": {
    "tags": []
   },
   "outputs": [],
   "source": [
    "# Quitas esta columna porque solo hay un dato y solo salía en X_train y no en X_test\n",
    "\n",
    "X_train.drop(columns = 'education_Iliterate', inplace=True, axis='columns')"
   ]
  },
  {
   "cell_type": "code",
   "execution_count": 105,
   "id": "215ef38a-47af-4bcf-b68a-1cfa816c4870",
   "metadata": {
    "tags": []
   },
   "outputs": [
    {
     "data": {
      "text/plain": [
       "47"
      ]
     },
     "execution_count": 105,
     "metadata": {},
     "output_type": "execute_result"
    }
   ],
   "source": [
    "# ahora X_train y X_test tienen el mismo numero de columnas\n",
    "\n",
    "len(X_train.columns)"
   ]
  },
  {
   "cell_type": "markdown",
   "id": "e5a661ef-78f4-4b20-a9e6-21c5c791fb9c",
   "metadata": {},
   "source": [
    "# Generacion del modelo"
   ]
  },
  {
   "cell_type": "code",
   "execution_count": 177,
   "id": "0c62c17d-3b05-41a7-8b3d-6bd0a4920b4a",
   "metadata": {
    "tags": []
   },
   "outputs": [],
   "source": [
    "from sklearn.feature_selection import RFE\n",
    "from sklearn.linear_model import LogisticRegression"
   ]
  },
  {
   "cell_type": "code",
   "execution_count": 179,
   "id": "d224eac2-6465-42fe-9fc3-045f3f5cb485",
   "metadata": {
    "tags": []
   },
   "outputs": [],
   "source": [
    "modelo = LogisticRegression(max_iter = 1000000)"
   ]
  },
  {
   "cell_type": "code",
   "execution_count": 181,
   "id": "1712cac1-66a1-4025-8a24-021811eed649",
   "metadata": {
    "tags": []
   },
   "outputs": [
    {
     "data": {
      "text/html": [
       "<style>#sk-container-id-7 {color: black;background-color: white;}#sk-container-id-7 pre{padding: 0;}#sk-container-id-7 div.sk-toggleable {background-color: white;}#sk-container-id-7 label.sk-toggleable__label {cursor: pointer;display: block;width: 100%;margin-bottom: 0;padding: 0.3em;box-sizing: border-box;text-align: center;}#sk-container-id-7 label.sk-toggleable__label-arrow:before {content: \"▸\";float: left;margin-right: 0.25em;color: #696969;}#sk-container-id-7 label.sk-toggleable__label-arrow:hover:before {color: black;}#sk-container-id-7 div.sk-estimator:hover label.sk-toggleable__label-arrow:before {color: black;}#sk-container-id-7 div.sk-toggleable__content {max-height: 0;max-width: 0;overflow: hidden;text-align: left;background-color: #f0f8ff;}#sk-container-id-7 div.sk-toggleable__content pre {margin: 0.2em;color: black;border-radius: 0.25em;background-color: #f0f8ff;}#sk-container-id-7 input.sk-toggleable__control:checked~div.sk-toggleable__content {max-height: 200px;max-width: 100%;overflow: auto;}#sk-container-id-7 input.sk-toggleable__control:checked~label.sk-toggleable__label-arrow:before {content: \"▾\";}#sk-container-id-7 div.sk-estimator input.sk-toggleable__control:checked~label.sk-toggleable__label {background-color: #d4ebff;}#sk-container-id-7 div.sk-label input.sk-toggleable__control:checked~label.sk-toggleable__label {background-color: #d4ebff;}#sk-container-id-7 input.sk-hidden--visually {border: 0;clip: rect(1px 1px 1px 1px);clip: rect(1px, 1px, 1px, 1px);height: 1px;margin: -1px;overflow: hidden;padding: 0;position: absolute;width: 1px;}#sk-container-id-7 div.sk-estimator {font-family: monospace;background-color: #f0f8ff;border: 1px dotted black;border-radius: 0.25em;box-sizing: border-box;margin-bottom: 0.5em;}#sk-container-id-7 div.sk-estimator:hover {background-color: #d4ebff;}#sk-container-id-7 div.sk-parallel-item::after {content: \"\";width: 100%;border-bottom: 1px solid gray;flex-grow: 1;}#sk-container-id-7 div.sk-label:hover label.sk-toggleable__label {background-color: #d4ebff;}#sk-container-id-7 div.sk-serial::before {content: \"\";position: absolute;border-left: 1px solid gray;box-sizing: border-box;top: 0;bottom: 0;left: 50%;z-index: 0;}#sk-container-id-7 div.sk-serial {display: flex;flex-direction: column;align-items: center;background-color: white;padding-right: 0.2em;padding-left: 0.2em;position: relative;}#sk-container-id-7 div.sk-item {position: relative;z-index: 1;}#sk-container-id-7 div.sk-parallel {display: flex;align-items: stretch;justify-content: center;background-color: white;position: relative;}#sk-container-id-7 div.sk-item::before, #sk-container-id-7 div.sk-parallel-item::before {content: \"\";position: absolute;border-left: 1px solid gray;box-sizing: border-box;top: 0;bottom: 0;left: 50%;z-index: -1;}#sk-container-id-7 div.sk-parallel-item {display: flex;flex-direction: column;z-index: 1;position: relative;background-color: white;}#sk-container-id-7 div.sk-parallel-item:first-child::after {align-self: flex-end;width: 50%;}#sk-container-id-7 div.sk-parallel-item:last-child::after {align-self: flex-start;width: 50%;}#sk-container-id-7 div.sk-parallel-item:only-child::after {width: 0;}#sk-container-id-7 div.sk-dashed-wrapped {border: 1px dashed gray;margin: 0 0.4em 0.5em 0.4em;box-sizing: border-box;padding-bottom: 0.4em;background-color: white;}#sk-container-id-7 div.sk-label label {font-family: monospace;font-weight: bold;display: inline-block;line-height: 1.2em;}#sk-container-id-7 div.sk-label-container {text-align: center;}#sk-container-id-7 div.sk-container {/* jupyter's `normalize.less` sets `[hidden] { display: none; }` but bootstrap.min.css set `[hidden] { display: none !important; }` so we also need the `!important` here to be able to override the default hidden behavior on the sphinx rendered scikit-learn.org. See: https://github.com/scikit-learn/scikit-learn/issues/21755 */display: inline-block !important;position: relative;}#sk-container-id-7 div.sk-text-repr-fallback {display: none;}</style><div id=\"sk-container-id-7\" class=\"sk-top-container\"><div class=\"sk-text-repr-fallback\"><pre>RFE(estimator=LogisticRegression(max_iter=1000000), n_features_to_select=12)</pre><b>In a Jupyter environment, please rerun this cell to show the HTML representation or trust the notebook. <br />On GitHub, the HTML representation is unable to render, please try loading this page with nbviewer.org.</b></div><div class=\"sk-container\" hidden><div class=\"sk-item sk-dashed-wrapped\"><div class=\"sk-label-container\"><div class=\"sk-label sk-toggleable\"><input class=\"sk-toggleable__control sk-hidden--visually\" id=\"sk-estimator-id-17\" type=\"checkbox\" ><label for=\"sk-estimator-id-17\" class=\"sk-toggleable__label sk-toggleable__label-arrow\">RFE</label><div class=\"sk-toggleable__content\"><pre>RFE(estimator=LogisticRegression(max_iter=1000000), n_features_to_select=12)</pre></div></div></div><div class=\"sk-parallel\"><div class=\"sk-parallel-item\"><div class=\"sk-item\"><div class=\"sk-label-container\"><div class=\"sk-label sk-toggleable\"><input class=\"sk-toggleable__control sk-hidden--visually\" id=\"sk-estimator-id-18\" type=\"checkbox\" ><label for=\"sk-estimator-id-18\" class=\"sk-toggleable__label sk-toggleable__label-arrow\">estimator: LogisticRegression</label><div class=\"sk-toggleable__content\"><pre>LogisticRegression(max_iter=1000000)</pre></div></div></div><div class=\"sk-serial\"><div class=\"sk-item\"><div class=\"sk-estimator sk-toggleable\"><input class=\"sk-toggleable__control sk-hidden--visually\" id=\"sk-estimator-id-19\" type=\"checkbox\" ><label for=\"sk-estimator-id-19\" class=\"sk-toggleable__label sk-toggleable__label-arrow\">LogisticRegression</label><div class=\"sk-toggleable__content\"><pre>LogisticRegression(max_iter=1000000)</pre></div></div></div></div></div></div></div></div></div></div>"
      ],
      "text/plain": [
       "RFE(estimator=LogisticRegression(max_iter=1000000), n_features_to_select=12)"
      ]
     },
     "execution_count": 181,
     "metadata": {},
     "output_type": "execute_result"
    }
   ],
   "source": [
    "seleccion_RFE = RFE(modelo, n_features_to_select = 12)\n",
    "seleccion_RFE"
   ]
  },
  {
   "cell_type": "code",
   "execution_count": 183,
   "id": "6b9cead2-bfd6-4c73-a38f-ac2c23a1f83b",
   "metadata": {
    "tags": []
   },
   "outputs": [
    {
     "data": {
      "text/html": [
       "<style>#sk-container-id-8 {color: black;background-color: white;}#sk-container-id-8 pre{padding: 0;}#sk-container-id-8 div.sk-toggleable {background-color: white;}#sk-container-id-8 label.sk-toggleable__label {cursor: pointer;display: block;width: 100%;margin-bottom: 0;padding: 0.3em;box-sizing: border-box;text-align: center;}#sk-container-id-8 label.sk-toggleable__label-arrow:before {content: \"▸\";float: left;margin-right: 0.25em;color: #696969;}#sk-container-id-8 label.sk-toggleable__label-arrow:hover:before {color: black;}#sk-container-id-8 div.sk-estimator:hover label.sk-toggleable__label-arrow:before {color: black;}#sk-container-id-8 div.sk-toggleable__content {max-height: 0;max-width: 0;overflow: hidden;text-align: left;background-color: #f0f8ff;}#sk-container-id-8 div.sk-toggleable__content pre {margin: 0.2em;color: black;border-radius: 0.25em;background-color: #f0f8ff;}#sk-container-id-8 input.sk-toggleable__control:checked~div.sk-toggleable__content {max-height: 200px;max-width: 100%;overflow: auto;}#sk-container-id-8 input.sk-toggleable__control:checked~label.sk-toggleable__label-arrow:before {content: \"▾\";}#sk-container-id-8 div.sk-estimator input.sk-toggleable__control:checked~label.sk-toggleable__label {background-color: #d4ebff;}#sk-container-id-8 div.sk-label input.sk-toggleable__control:checked~label.sk-toggleable__label {background-color: #d4ebff;}#sk-container-id-8 input.sk-hidden--visually {border: 0;clip: rect(1px 1px 1px 1px);clip: rect(1px, 1px, 1px, 1px);height: 1px;margin: -1px;overflow: hidden;padding: 0;position: absolute;width: 1px;}#sk-container-id-8 div.sk-estimator {font-family: monospace;background-color: #f0f8ff;border: 1px dotted black;border-radius: 0.25em;box-sizing: border-box;margin-bottom: 0.5em;}#sk-container-id-8 div.sk-estimator:hover {background-color: #d4ebff;}#sk-container-id-8 div.sk-parallel-item::after {content: \"\";width: 100%;border-bottom: 1px solid gray;flex-grow: 1;}#sk-container-id-8 div.sk-label:hover label.sk-toggleable__label {background-color: #d4ebff;}#sk-container-id-8 div.sk-serial::before {content: \"\";position: absolute;border-left: 1px solid gray;box-sizing: border-box;top: 0;bottom: 0;left: 50%;z-index: 0;}#sk-container-id-8 div.sk-serial {display: flex;flex-direction: column;align-items: center;background-color: white;padding-right: 0.2em;padding-left: 0.2em;position: relative;}#sk-container-id-8 div.sk-item {position: relative;z-index: 1;}#sk-container-id-8 div.sk-parallel {display: flex;align-items: stretch;justify-content: center;background-color: white;position: relative;}#sk-container-id-8 div.sk-item::before, #sk-container-id-8 div.sk-parallel-item::before {content: \"\";position: absolute;border-left: 1px solid gray;box-sizing: border-box;top: 0;bottom: 0;left: 50%;z-index: -1;}#sk-container-id-8 div.sk-parallel-item {display: flex;flex-direction: column;z-index: 1;position: relative;background-color: white;}#sk-container-id-8 div.sk-parallel-item:first-child::after {align-self: flex-end;width: 50%;}#sk-container-id-8 div.sk-parallel-item:last-child::after {align-self: flex-start;width: 50%;}#sk-container-id-8 div.sk-parallel-item:only-child::after {width: 0;}#sk-container-id-8 div.sk-dashed-wrapped {border: 1px dashed gray;margin: 0 0.4em 0.5em 0.4em;box-sizing: border-box;padding-bottom: 0.4em;background-color: white;}#sk-container-id-8 div.sk-label label {font-family: monospace;font-weight: bold;display: inline-block;line-height: 1.2em;}#sk-container-id-8 div.sk-label-container {text-align: center;}#sk-container-id-8 div.sk-container {/* jupyter's `normalize.less` sets `[hidden] { display: none; }` but bootstrap.min.css set `[hidden] { display: none !important; }` so we also need the `!important` here to be able to override the default hidden behavior on the sphinx rendered scikit-learn.org. See: https://github.com/scikit-learn/scikit-learn/issues/21755 */display: inline-block !important;position: relative;}#sk-container-id-8 div.sk-text-repr-fallback {display: none;}</style><div id=\"sk-container-id-8\" class=\"sk-top-container\"><div class=\"sk-text-repr-fallback\"><pre>RFE(estimator=LogisticRegression(max_iter=1000000), n_features_to_select=12)</pre><b>In a Jupyter environment, please rerun this cell to show the HTML representation or trust the notebook. <br />On GitHub, the HTML representation is unable to render, please try loading this page with nbviewer.org.</b></div><div class=\"sk-container\" hidden><div class=\"sk-item sk-dashed-wrapped\"><div class=\"sk-label-container\"><div class=\"sk-label sk-toggleable\"><input class=\"sk-toggleable__control sk-hidden--visually\" id=\"sk-estimator-id-20\" type=\"checkbox\" ><label for=\"sk-estimator-id-20\" class=\"sk-toggleable__label sk-toggleable__label-arrow\">RFE</label><div class=\"sk-toggleable__content\"><pre>RFE(estimator=LogisticRegression(max_iter=1000000), n_features_to_select=12)</pre></div></div></div><div class=\"sk-parallel\"><div class=\"sk-parallel-item\"><div class=\"sk-item\"><div class=\"sk-label-container\"><div class=\"sk-label sk-toggleable\"><input class=\"sk-toggleable__control sk-hidden--visually\" id=\"sk-estimator-id-21\" type=\"checkbox\" ><label for=\"sk-estimator-id-21\" class=\"sk-toggleable__label sk-toggleable__label-arrow\">estimator: LogisticRegression</label><div class=\"sk-toggleable__content\"><pre>LogisticRegression(max_iter=1000000)</pre></div></div></div><div class=\"sk-serial\"><div class=\"sk-item\"><div class=\"sk-estimator sk-toggleable\"><input class=\"sk-toggleable__control sk-hidden--visually\" id=\"sk-estimator-id-22\" type=\"checkbox\" ><label for=\"sk-estimator-id-22\" class=\"sk-toggleable__label sk-toggleable__label-arrow\">LogisticRegression</label><div class=\"sk-toggleable__content\"><pre>LogisticRegression(max_iter=1000000)</pre></div></div></div></div></div></div></div></div></div></div>"
      ],
      "text/plain": [
       "RFE(estimator=LogisticRegression(max_iter=1000000), n_features_to_select=12)"
      ]
     },
     "execution_count": 183,
     "metadata": {},
     "output_type": "execute_result"
    }
   ],
   "source": [
    "# Se hace el fit con X_train y y_train para saber que columnas son importantes\n",
    "\n",
    "seleccion_RFE.fit(X_train, y_train)"
   ]
  },
  {
   "cell_type": "code",
   "execution_count": 185,
   "id": "9f914c27-1d89-48e3-8bf1-df281b00f5c6",
   "metadata": {
    "tags": []
   },
   "outputs": [
    {
     "data": {
      "text/plain": [
       "array([False, False, False, False, False, False, False,  True, False,\n",
       "       False, False,  True, False, False,  True, False, False,  True,\n",
       "       False, False, False, False, False,  True, False, False,  True,\n",
       "       False, False, False, False,  True, False, False, False,  True,\n",
       "        True,  True, False, False, False, False, False, False, False,\n",
       "        True,  True])"
      ]
     },
     "execution_count": 185,
     "metadata": {},
     "output_type": "execute_result"
    }
   ],
   "source": [
    "# con support ves que columnas hay que seleccionar\n",
    "\n",
    "seleccion_RFE.support_"
   ]
  },
  {
   "cell_type": "code",
   "execution_count": 187,
   "id": "7539be16-6b18-4ff5-82af-a59f80a20cb8",
   "metadata": {
    "tags": []
   },
   "outputs": [],
   "source": [
    "# te traes solo esas columnas que ha considerado el RFE importantes\n",
    "\n",
    "X_train_final = X_train.loc[:,seleccion_RFE.support_]"
   ]
  },
  {
   "cell_type": "code",
   "execution_count": 189,
   "id": "0a5809ad-3ab2-425c-ba27-5ab9bc56fdba",
   "metadata": {
    "tags": []
   },
   "outputs": [
    {
     "data": {
      "text/html": [
       "<style>#sk-container-id-9 {color: black;background-color: white;}#sk-container-id-9 pre{padding: 0;}#sk-container-id-9 div.sk-toggleable {background-color: white;}#sk-container-id-9 label.sk-toggleable__label {cursor: pointer;display: block;width: 100%;margin-bottom: 0;padding: 0.3em;box-sizing: border-box;text-align: center;}#sk-container-id-9 label.sk-toggleable__label-arrow:before {content: \"▸\";float: left;margin-right: 0.25em;color: #696969;}#sk-container-id-9 label.sk-toggleable__label-arrow:hover:before {color: black;}#sk-container-id-9 div.sk-estimator:hover label.sk-toggleable__label-arrow:before {color: black;}#sk-container-id-9 div.sk-toggleable__content {max-height: 0;max-width: 0;overflow: hidden;text-align: left;background-color: #f0f8ff;}#sk-container-id-9 div.sk-toggleable__content pre {margin: 0.2em;color: black;border-radius: 0.25em;background-color: #f0f8ff;}#sk-container-id-9 input.sk-toggleable__control:checked~div.sk-toggleable__content {max-height: 200px;max-width: 100%;overflow: auto;}#sk-container-id-9 input.sk-toggleable__control:checked~label.sk-toggleable__label-arrow:before {content: \"▾\";}#sk-container-id-9 div.sk-estimator input.sk-toggleable__control:checked~label.sk-toggleable__label {background-color: #d4ebff;}#sk-container-id-9 div.sk-label input.sk-toggleable__control:checked~label.sk-toggleable__label {background-color: #d4ebff;}#sk-container-id-9 input.sk-hidden--visually {border: 0;clip: rect(1px 1px 1px 1px);clip: rect(1px, 1px, 1px, 1px);height: 1px;margin: -1px;overflow: hidden;padding: 0;position: absolute;width: 1px;}#sk-container-id-9 div.sk-estimator {font-family: monospace;background-color: #f0f8ff;border: 1px dotted black;border-radius: 0.25em;box-sizing: border-box;margin-bottom: 0.5em;}#sk-container-id-9 div.sk-estimator:hover {background-color: #d4ebff;}#sk-container-id-9 div.sk-parallel-item::after {content: \"\";width: 100%;border-bottom: 1px solid gray;flex-grow: 1;}#sk-container-id-9 div.sk-label:hover label.sk-toggleable__label {background-color: #d4ebff;}#sk-container-id-9 div.sk-serial::before {content: \"\";position: absolute;border-left: 1px solid gray;box-sizing: border-box;top: 0;bottom: 0;left: 50%;z-index: 0;}#sk-container-id-9 div.sk-serial {display: flex;flex-direction: column;align-items: center;background-color: white;padding-right: 0.2em;padding-left: 0.2em;position: relative;}#sk-container-id-9 div.sk-item {position: relative;z-index: 1;}#sk-container-id-9 div.sk-parallel {display: flex;align-items: stretch;justify-content: center;background-color: white;position: relative;}#sk-container-id-9 div.sk-item::before, #sk-container-id-9 div.sk-parallel-item::before {content: \"\";position: absolute;border-left: 1px solid gray;box-sizing: border-box;top: 0;bottom: 0;left: 50%;z-index: -1;}#sk-container-id-9 div.sk-parallel-item {display: flex;flex-direction: column;z-index: 1;position: relative;background-color: white;}#sk-container-id-9 div.sk-parallel-item:first-child::after {align-self: flex-end;width: 50%;}#sk-container-id-9 div.sk-parallel-item:last-child::after {align-self: flex-start;width: 50%;}#sk-container-id-9 div.sk-parallel-item:only-child::after {width: 0;}#sk-container-id-9 div.sk-dashed-wrapped {border: 1px dashed gray;margin: 0 0.4em 0.5em 0.4em;box-sizing: border-box;padding-bottom: 0.4em;background-color: white;}#sk-container-id-9 div.sk-label label {font-family: monospace;font-weight: bold;display: inline-block;line-height: 1.2em;}#sk-container-id-9 div.sk-label-container {text-align: center;}#sk-container-id-9 div.sk-container {/* jupyter's `normalize.less` sets `[hidden] { display: none; }` but bootstrap.min.css set `[hidden] { display: none !important; }` so we also need the `!important` here to be able to override the default hidden behavior on the sphinx rendered scikit-learn.org. See: https://github.com/scikit-learn/scikit-learn/issues/21755 */display: inline-block !important;position: relative;}#sk-container-id-9 div.sk-text-repr-fallback {display: none;}</style><div id=\"sk-container-id-9\" class=\"sk-top-container\"><div class=\"sk-text-repr-fallback\"><pre>LogisticRegression(max_iter=1000000)</pre><b>In a Jupyter environment, please rerun this cell to show the HTML representation or trust the notebook. <br />On GitHub, the HTML representation is unable to render, please try loading this page with nbviewer.org.</b></div><div class=\"sk-container\" hidden><div class=\"sk-item\"><div class=\"sk-estimator sk-toggleable\"><input class=\"sk-toggleable__control sk-hidden--visually\" id=\"sk-estimator-id-23\" type=\"checkbox\" checked><label for=\"sk-estimator-id-23\" class=\"sk-toggleable__label sk-toggleable__label-arrow\">LogisticRegression</label><div class=\"sk-toggleable__content\"><pre>LogisticRegression(max_iter=1000000)</pre></div></div></div></div></div>"
      ],
      "text/plain": [
       "LogisticRegression(max_iter=1000000)"
      ]
     },
     "execution_count": 189,
     "metadata": {},
     "output_type": "execute_result"
    }
   ],
   "source": [
    "# Ajustas el modelo ya solo con las columnas que quieres\n",
    "\n",
    "modelo = LogisticRegression(max_iter = 1000000)\n",
    "modelo.fit(X_train_final, y_train)"
   ]
  },
  {
   "cell_type": "markdown",
   "id": "85d36886-200a-47df-ac82-0361accc920c",
   "metadata": {},
   "source": [
    "## Prediccion con tu modelo"
   ]
  },
  {
   "cell_type": "code",
   "execution_count": 243,
   "id": "de6b8674-c09a-45ed-b5d8-9fe977f516bb",
   "metadata": {
    "tags": []
   },
   "outputs": [],
   "source": [
    "X_test_final = X_test.loc[:,seleccion_RFE.support_]"
   ]
  },
  {
   "cell_type": "code",
   "execution_count": 245,
   "id": "886f6642-5fba-4cbc-8390-8b7e2bead24c",
   "metadata": {
    "tags": []
   },
   "outputs": [],
   "source": [
    "y_prediction = modelo.predict(X_test_final)"
   ]
  },
  {
   "cell_type": "code",
   "execution_count": 247,
   "id": "92d53f8c-383d-41e9-ae9a-bc5c76fe2602",
   "metadata": {
    "tags": []
   },
   "outputs": [
    {
     "data": {
      "text/plain": [
       "array([0, 0, 1, ..., 0, 0, 0])"
      ]
     },
     "execution_count": 247,
     "metadata": {},
     "output_type": "execute_result"
    }
   ],
   "source": [
    "y_prediction"
   ]
  },
  {
   "cell_type": "code",
   "execution_count": 249,
   "id": "82a6a50c-f1de-4567-b2f8-1d4a7bdcd5fd",
   "metadata": {
    "tags": []
   },
   "outputs": [
    {
     "data": {
      "text/plain": [
       "array([[0.71611911, 0.28388089],\n",
       "       [0.93913224, 0.06086776],\n",
       "       [0.40949208, 0.59050792],\n",
       "       ...,\n",
       "       [0.90601765, 0.09398235],\n",
       "       [0.98080617, 0.01919383],\n",
       "       [0.94295462, 0.05704538]])"
      ]
     },
     "execution_count": 249,
     "metadata": {},
     "output_type": "execute_result"
    }
   ],
   "source": [
    "# calculas la probabilidad de que cada elemento sea 0(no) o 1(si) \n",
    "\n",
    "y_prediction_proba = modelo.predict_proba(X_test_final)\n",
    "y_prediction_proba"
   ]
  },
  {
   "cell_type": "code",
   "execution_count": 276,
   "id": "333ddde5-abb2-4078-b80b-e3c9cb29d7b5",
   "metadata": {
    "tags": []
   },
   "outputs": [
    {
     "data": {
      "text/plain": [
       "array([0.28388089, 0.06086776, 0.59050792, ..., 0.09398235, 0.01919383,\n",
       "       0.05704538])"
      ]
     },
     "execution_count": 276,
     "metadata": {},
     "output_type": "execute_result"
    }
   ],
   "source": [
    "# [:,1] te quedas con el elemento 1 que es la probabilidad de que sea 1(si)\n",
    "\n",
    "y_prediction_proba = modelo.predict_proba(X_test_final)[:,1]\n",
    "y_prediction_proba"
   ]
  },
  {
   "cell_type": "markdown",
   "id": "eadb9b7e-a56c-4203-a1f2-f2e3f94083f5",
   "metadata": {},
   "source": [
    "### Definir el umbral/Threshold"
   ]
  },
  {
   "cell_type": "code",
   "execution_count": 253,
   "id": "d272427f-4820-4330-8f57-81b75e6ce425",
   "metadata": {
    "tags": []
   },
   "outputs": [
    {
     "data": {
      "text/plain": [
       "array([0, 0, 0, ..., 0, 0, 0])"
      ]
     },
     "execution_count": 253,
     "metadata": {},
     "output_type": "execute_result"
    }
   ],
   "source": [
    "# usas este vector para determinar donde quieres que sea el corte para considerar si o no\n",
    "# multiplicas por 1 para que salgan 0 y 1 y no True o False\n",
    "\n",
    "y_prediccion_final = (y_prediction_proba>0.9)*1\n",
    "y_prediccion_final "
   ]
  },
  {
   "cell_type": "markdown",
   "id": "4151352d-6427-4ea2-959a-bb3410866398",
   "metadata": {},
   "source": [
    "## Evaluacion del modelo"
   ]
  },
  {
   "cell_type": "code",
   "execution_count": 255,
   "id": "165c0e3e-00ad-4cb7-a320-c6819f1d5e27",
   "metadata": {
    "tags": []
   },
   "outputs": [],
   "source": [
    "from sklearn.metrics import confusion_matrix, roc_curve, roc_auc_score"
   ]
  },
  {
   "cell_type": "code",
   "execution_count": 257,
   "id": "8e04ca96-8a6c-45e8-a0f6-7f511e1c325e",
   "metadata": {
    "tags": []
   },
   "outputs": [],
   "source": [
    "matriz_confusion = confusion_matrix(y_test, y_pred_final)"
   ]
  },
  {
   "cell_type": "code",
   "execution_count": 263,
   "id": "8f639969-ccd7-4e75-ac94-edd8b79eae57",
   "metadata": {
    "tags": []
   },
   "outputs": [
    {
     "data": {
      "text/html": [
       "<div>\n",
       "<style scoped>\n",
       "    .dataframe tbody tr th:only-of-type {\n",
       "        vertical-align: middle;\n",
       "    }\n",
       "\n",
       "    .dataframe tbody tr th {\n",
       "        vertical-align: top;\n",
       "    }\n",
       "\n",
       "    .dataframe thead th {\n",
       "        text-align: right;\n",
       "    }\n",
       "</style>\n",
       "<table border=\"1\" class=\"dataframe\">\n",
       "  <thead>\n",
       "    <tr style=\"text-align: right;\">\n",
       "      <th></th>\n",
       "      <th>y_test</th>\n",
       "      <th>y_prediccion_final</th>\n",
       "      <th>0</th>\n",
       "    </tr>\n",
       "  </thead>\n",
       "  <tbody>\n",
       "    <tr>\n",
       "      <th>0</th>\n",
       "      <td>0</td>\n",
       "      <td>0</td>\n",
       "      <td>930</td>\n",
       "    </tr>\n",
       "    <tr>\n",
       "      <th>1</th>\n",
       "      <td>1</td>\n",
       "      <td>0</td>\n",
       "      <td>98</td>\n",
       "    </tr>\n",
       "    <tr>\n",
       "      <th>2</th>\n",
       "      <td>1</td>\n",
       "      <td>1</td>\n",
       "      <td>2</td>\n",
       "    </tr>\n",
       "  </tbody>\n",
       "</table>\n",
       "</div>"
      ],
      "text/plain": [
       "   y_test  y_prediccion_final    0\n",
       "0       0                   0  930\n",
       "1       1                   0   98\n",
       "2       1                   1    2"
      ]
     },
     "execution_count": 263,
     "metadata": {},
     "output_type": "execute_result"
    }
   ],
   "source": [
    "pd.DataFrame({\n",
    "    \"y_test\": y_test,\n",
    "    \"y_prediccion_final\": y_prediccion_final\n",
    "}).groupby([\"y_test\", \"y_prediccion_final\"]).size().reset_index()"
   ]
  },
  {
   "cell_type": "code",
   "execution_count": 261,
   "id": "cf33a510-5daa-47cb-b4a4-7ebd0d3cd296",
   "metadata": {
    "tags": []
   },
   "outputs": [],
   "source": [
    "TN = matriz_confusion[0][0]\n",
    "TP = matriz_confusion[1][1]\n",
    "FN = matriz_confusion[1][0]\n",
    "FP = matriz_confusion[0][1]"
   ]
  },
  {
   "cell_type": "code",
   "execution_count": 265,
   "id": "855990b9-5ab0-4177-a0fb-cad5074834e6",
   "metadata": {
    "tags": []
   },
   "outputs": [
    {
     "data": {
      "text/plain": [
       "0.9048543689320389"
      ]
     },
     "execution_count": 265,
     "metadata": {},
     "output_type": "execute_result"
    }
   ],
   "source": [
    "# Accuracy\n",
    "\n",
    "(TN + TP)/ (TN + TP + FN + FP)"
   ]
  },
  {
   "cell_type": "markdown",
   "id": "9dfc98f3-d8a0-4eb5-935b-1fca13d71fc6",
   "metadata": {},
   "source": [
    "## Curva de ROC"
   ]
  },
  {
   "cell_type": "code",
   "execution_count": 282,
   "id": "82165d2f-1b33-4c5a-b0da-4ee95372d8c7",
   "metadata": {
    "collapsed": true,
    "jupyter": {
     "outputs_hidden": true
    },
    "tags": []
   },
   "outputs": [
    {
     "data": {
      "text/plain": [
       "(array([0.        , 0.        , 0.        , 0.00322581, 0.00322581,\n",
       "        0.00430108, 0.00430108, 0.00537634, 0.00537634, 0.00860215,\n",
       "        0.00860215, 0.01290323, 0.01290323, 0.01505376, 0.01505376,\n",
       "        0.01612903, 0.01612903, 0.02258065, 0.02258065, 0.02365591,\n",
       "        0.02365591, 0.02580645, 0.02580645, 0.02688172, 0.02688172,\n",
       "        0.02795699, 0.02795699, 0.02903226, 0.02903226, 0.03333333,\n",
       "        0.03333333, 0.03548387, 0.03655914, 0.03655914, 0.03763441,\n",
       "        0.03870968, 0.04408602, 0.04516129, 0.0483871 , 0.0483871 ,\n",
       "        0.04946237, 0.04946237, 0.05053763, 0.05053763, 0.0516129 ,\n",
       "        0.05268817, 0.05268817, 0.05698925, 0.05698925, 0.05806452,\n",
       "        0.05806452, 0.06021505, 0.06021505, 0.06021505, 0.06129032,\n",
       "        0.0655914 , 0.06666667, 0.07096774, 0.07096774, 0.07311828,\n",
       "        0.07526882, 0.07526882, 0.07634409, 0.07634409, 0.07741935,\n",
       "        0.08817204, 0.09247312, 0.09354839, 0.09569892, 0.09677419,\n",
       "        0.09784946, 0.10860215, 0.10860215, 0.11612903, 0.12795699,\n",
       "        0.13010753, 0.13225806, 0.1344086 , 0.1344086 , 0.13763441,\n",
       "        0.13763441, 0.13870968, 0.13870968, 0.14301075, 0.14516129,\n",
       "        0.15268817, 0.16451613, 0.1655914 , 0.17096774, 0.17419355,\n",
       "        0.18064516, 0.19462366, 0.2       , 0.20752688, 0.21827957,\n",
       "        0.21827957, 0.22688172, 0.23763441, 0.24086022, 0.24301075,\n",
       "        0.24516129, 0.24731183, 0.24946237, 0.25376344, 0.25913978,\n",
       "        0.2655914 , 0.2688172 , 0.27419355, 0.2827957 , 0.28387097,\n",
       "        0.28709677, 0.28817204, 0.29032258, 0.29139785, 0.29462366,\n",
       "        0.29569892, 0.29784946, 0.29892473, 0.30107527, 0.30752688,\n",
       "        0.31827957, 0.3344086 , 0.35053763, 0.35806452, 0.37419355,\n",
       "        0.38602151, 0.39569892, 0.40215054, 0.40645161, 0.41290323,\n",
       "        0.42688172, 0.43333333, 0.45376344, 0.46021505, 0.46129032,\n",
       "        0.47096774, 0.47096774, 0.47204301, 0.47634409, 0.47849462,\n",
       "        0.4827957 , 0.48494624, 0.48817204, 0.48924731, 0.49784946,\n",
       "        0.50645161, 0.50752688, 0.52150538, 0.5483871 , 0.59354839,\n",
       "        0.65053763, 0.68064516, 0.70430108, 0.70537634, 0.72258065,\n",
       "        0.72580645, 0.75053763, 0.75376344, 0.75483871, 0.75483871,\n",
       "        0.75806452, 0.76021505, 0.7655914 , 0.7688172 , 0.76989247,\n",
       "        0.77526882, 0.78064516, 0.7827957 , 0.78387097, 0.78709677,\n",
       "        0.79247312, 0.79354839, 0.79462366, 0.79569892, 0.79677419,\n",
       "        0.79892473, 0.8       , 0.80215054, 0.80430108, 0.81827957,\n",
       "        0.8483871 , 0.92473118, 0.94193548, 0.95698925, 0.97526882,\n",
       "        0.98709677, 0.99032258, 0.99354839, 0.99784946, 1.        ]),\n",
       " array([0.  , 0.01, 0.04, 0.04, 0.05, 0.05, 0.06, 0.06, 0.11, 0.11, 0.15,\n",
       "        0.15, 0.16, 0.16, 0.17, 0.18, 0.2 , 0.2 , 0.21, 0.21, 0.24, 0.24,\n",
       "        0.25, 0.25, 0.26, 0.26, 0.28, 0.28, 0.3 , 0.3 , 0.31, 0.31, 0.31,\n",
       "        0.32, 0.32, 0.33, 0.33, 0.34, 0.34, 0.35, 0.35, 0.37, 0.37, 0.38,\n",
       "        0.38, 0.39, 0.4 , 0.4 , 0.41, 0.41, 0.43, 0.43, 0.44, 0.46, 0.46,\n",
       "        0.47, 0.48, 0.48, 0.5 , 0.53, 0.53, 0.54, 0.54, 0.55, 0.55, 0.55,\n",
       "        0.55, 0.55, 0.55, 0.55, 0.56, 0.56, 0.58, 0.58, 0.58, 0.58, 0.58,\n",
       "        0.58, 0.59, 0.59, 0.6 , 0.6 , 0.61, 0.61, 0.61, 0.61, 0.62, 0.63,\n",
       "        0.63, 0.63, 0.65, 0.66, 0.66, 0.67, 0.68, 0.69, 0.69, 0.69, 0.7 ,\n",
       "        0.7 , 0.7 , 0.7 , 0.7 , 0.7 , 0.71, 0.72, 0.72, 0.72, 0.72, 0.72,\n",
       "        0.72, 0.72, 0.72, 0.72, 0.72, 0.72, 0.72, 0.73, 0.73, 0.73, 0.73,\n",
       "        0.73, 0.74, 0.74, 0.74, 0.76, 0.77, 0.77, 0.77, 0.77, 0.77, 0.77,\n",
       "        0.77, 0.77, 0.77, 0.77, 0.78, 0.78, 0.78, 0.78, 0.78, 0.78, 0.78,\n",
       "        0.78, 0.78, 0.8 , 0.8 , 0.82, 0.83, 0.85, 0.86, 0.87, 0.88, 0.88,\n",
       "        0.89, 0.9 , 0.9 , 0.9 , 0.9 , 0.91, 0.91, 0.91, 0.91, 0.91, 0.91,\n",
       "        0.92, 0.92, 0.92, 0.92, 0.92, 0.92, 0.93, 0.93, 0.94, 0.94, 0.94,\n",
       "        0.94, 0.94, 0.94, 0.95, 0.96, 0.98, 0.99, 0.99, 0.99, 1.  , 1.  ,\n",
       "        1.  , 1.  , 1.  ]),\n",
       " array([1.92639706, 0.92639706, 0.84711021, 0.80893579, 0.80374963,\n",
       "        0.79566415, 0.7843526 , 0.77410079, 0.72417044, 0.70530343,\n",
       "        0.65808522, 0.6421719 , 0.64115366, 0.63982805, 0.62614628,\n",
       "        0.62552409, 0.57623543, 0.47910793, 0.47756088, 0.47613383,\n",
       "        0.46201794, 0.403528  , 0.40310171, 0.40300434, 0.39610636,\n",
       "        0.39524242, 0.3941844 , 0.38042812, 0.3795082 , 0.3575916 ,\n",
       "        0.35596556, 0.35576254, 0.35515378, 0.35383642, 0.34264271,\n",
       "        0.34154635, 0.30749651, 0.3054766 , 0.2987796 , 0.29252593,\n",
       "        0.29120252, 0.2850527 , 0.28433124, 0.28424114, 0.28388089,\n",
       "        0.28379087, 0.28370087, 0.27496496, 0.27425924, 0.27329072,\n",
       "        0.27214886, 0.27127254, 0.2702233 , 0.26978687, 0.26975994,\n",
       "        0.26969963, 0.26935088, 0.25211324, 0.22950776, 0.22945874,\n",
       "        0.22911645, 0.22888188, 0.22864749, 0.2271669 , 0.22708917,\n",
       "        0.22634183, 0.22595432, 0.22592536, 0.22494902, 0.22325498,\n",
       "        0.22035037, 0.20541244, 0.20440237, 0.18189241, 0.17956267,\n",
       "        0.17923671, 0.17453016, 0.16748855, 0.16587416, 0.15860699,\n",
       "        0.15339165, 0.152531  , 0.1512904 , 0.12723274, 0.12561877,\n",
       "        0.1235388 , 0.12325139, 0.122583  , 0.12248777, 0.1222975 ,\n",
       "        0.12177557, 0.12130276, 0.12092565, 0.12026813, 0.11961371,\n",
       "        0.11936333, 0.11928766, 0.11882319, 0.1183603 , 0.10912661,\n",
       "        0.10904054, 0.09552187, 0.09515783, 0.0945495 , 0.09398235,\n",
       "        0.09360594, 0.09330579, 0.09278261, 0.09226206, 0.09200277,\n",
       "        0.09163349, 0.09135527, 0.09128177, 0.09126555, 0.09124504,\n",
       "        0.09102496, 0.08758158, 0.08744013, 0.08705221, 0.08451706,\n",
       "        0.08412565, 0.08226793, 0.08080872, 0.07972985, 0.07850382,\n",
       "        0.07153262, 0.07150321, 0.07147382, 0.06890192, 0.06881673,\n",
       "        0.06878836, 0.06876   , 0.06873165, 0.06870331, 0.06868096,\n",
       "        0.06856177, 0.06839824, 0.064587  , 0.06429628, 0.0628464 ,\n",
       "        0.06170851, 0.06086776, 0.05991289, 0.05806504, 0.05721236,\n",
       "        0.05718848, 0.05716461, 0.05714074, 0.05711689, 0.05709305,\n",
       "        0.05706921, 0.05704538, 0.05702157, 0.05700846, 0.05699776,\n",
       "        0.05697396, 0.05695017, 0.05690262, 0.05395468, 0.05192604,\n",
       "        0.0453765 , 0.04432843, 0.04005897, 0.04000791, 0.03999091,\n",
       "        0.03997391, 0.03995692, 0.03993993, 0.03992296, 0.03990598,\n",
       "        0.03761326, 0.03750121, 0.03710088, 0.03522665, 0.03192936,\n",
       "        0.03190199, 0.03187465, 0.0314444 , 0.03141744, 0.01921051,\n",
       "        0.01920216, 0.01919383, 0.01918549, 0.01917716, 0.01916883,\n",
       "        0.01913556, 0.0124467 , 0.01054732, 0.0105427 , 0.01053346]))"
      ]
     },
     "execution_count": 282,
     "metadata": {},
     "output_type": "execute_result"
    }
   ],
   "source": [
    "roc_curve(y_test, y_prediction_proba)"
   ]
  },
  {
   "cell_type": "code",
   "execution_count": 278,
   "id": "3c03b343-d6d4-4fc1-b5b1-9267d1896b27",
   "metadata": {
    "tags": []
   },
   "outputs": [],
   "source": [
    "especificidad_inv, sensibilidad, threshold = roc_curve(y_test, y_prediction_proba)"
   ]
  },
  {
   "cell_type": "code",
   "execution_count": 284,
   "id": "ccac75de-12e8-401e-bd9e-56e3693d0bf6",
   "metadata": {
    "collapsed": true,
    "jupyter": {
     "outputs_hidden": true
    },
    "tags": []
   },
   "outputs": [
    {
     "data": {
      "text/plain": [
       "array([0.        , 0.        , 0.        , 0.00322581, 0.00322581,\n",
       "       0.00430108, 0.00430108, 0.00537634, 0.00537634, 0.00860215,\n",
       "       0.00860215, 0.01290323, 0.01290323, 0.01505376, 0.01505376,\n",
       "       0.01612903, 0.01612903, 0.02258065, 0.02258065, 0.02365591,\n",
       "       0.02365591, 0.02580645, 0.02580645, 0.02688172, 0.02688172,\n",
       "       0.02795699, 0.02795699, 0.02903226, 0.02903226, 0.03333333,\n",
       "       0.03333333, 0.03548387, 0.03655914, 0.03655914, 0.03763441,\n",
       "       0.03870968, 0.04408602, 0.04516129, 0.0483871 , 0.0483871 ,\n",
       "       0.04946237, 0.04946237, 0.05053763, 0.05053763, 0.0516129 ,\n",
       "       0.05268817, 0.05268817, 0.05698925, 0.05698925, 0.05806452,\n",
       "       0.05806452, 0.06021505, 0.06021505, 0.06021505, 0.06129032,\n",
       "       0.0655914 , 0.06666667, 0.07096774, 0.07096774, 0.07311828,\n",
       "       0.07526882, 0.07526882, 0.07634409, 0.07634409, 0.07741935,\n",
       "       0.08817204, 0.09247312, 0.09354839, 0.09569892, 0.09677419,\n",
       "       0.09784946, 0.10860215, 0.10860215, 0.11612903, 0.12795699,\n",
       "       0.13010753, 0.13225806, 0.1344086 , 0.1344086 , 0.13763441,\n",
       "       0.13763441, 0.13870968, 0.13870968, 0.14301075, 0.14516129,\n",
       "       0.15268817, 0.16451613, 0.1655914 , 0.17096774, 0.17419355,\n",
       "       0.18064516, 0.19462366, 0.2       , 0.20752688, 0.21827957,\n",
       "       0.21827957, 0.22688172, 0.23763441, 0.24086022, 0.24301075,\n",
       "       0.24516129, 0.24731183, 0.24946237, 0.25376344, 0.25913978,\n",
       "       0.2655914 , 0.2688172 , 0.27419355, 0.2827957 , 0.28387097,\n",
       "       0.28709677, 0.28817204, 0.29032258, 0.29139785, 0.29462366,\n",
       "       0.29569892, 0.29784946, 0.29892473, 0.30107527, 0.30752688,\n",
       "       0.31827957, 0.3344086 , 0.35053763, 0.35806452, 0.37419355,\n",
       "       0.38602151, 0.39569892, 0.40215054, 0.40645161, 0.41290323,\n",
       "       0.42688172, 0.43333333, 0.45376344, 0.46021505, 0.46129032,\n",
       "       0.47096774, 0.47096774, 0.47204301, 0.47634409, 0.47849462,\n",
       "       0.4827957 , 0.48494624, 0.48817204, 0.48924731, 0.49784946,\n",
       "       0.50645161, 0.50752688, 0.52150538, 0.5483871 , 0.59354839,\n",
       "       0.65053763, 0.68064516, 0.70430108, 0.70537634, 0.72258065,\n",
       "       0.72580645, 0.75053763, 0.75376344, 0.75483871, 0.75483871,\n",
       "       0.75806452, 0.76021505, 0.7655914 , 0.7688172 , 0.76989247,\n",
       "       0.77526882, 0.78064516, 0.7827957 , 0.78387097, 0.78709677,\n",
       "       0.79247312, 0.79354839, 0.79462366, 0.79569892, 0.79677419,\n",
       "       0.79892473, 0.8       , 0.80215054, 0.80430108, 0.81827957,\n",
       "       0.8483871 , 0.92473118, 0.94193548, 0.95698925, 0.97526882,\n",
       "       0.98709677, 0.99032258, 0.99354839, 0.99784946, 1.        ])"
      ]
     },
     "execution_count": 284,
     "metadata": {},
     "output_type": "execute_result"
    }
   ],
   "source": [
    "especificidad_inv"
   ]
  },
  {
   "cell_type": "code",
   "execution_count": 290,
   "id": "180b9b9e-a1a4-46d6-a925-6c7cff174385",
   "metadata": {
    "tags": []
   },
   "outputs": [
    {
     "data": {
      "text/plain": [
       "<Axes: >"
      ]
     },
     "execution_count": 290,
     "metadata": {},
     "output_type": "execute_result"
    },
    {
     "data": {
      "image/png": "[encoded data removed]",
      "text/plain": [
       "<Figure size 640x480 with 1 Axes>"
      ]
     },
     "metadata": {},
     "output_type": "display_data"
    }
   ],
   "source": [
    "recta_x = [i * 0.01 for i in range(101)]\n",
    "recta_y = recta_x\n",
    "\n",
    "\n",
    "sns.lineplot(x=especificidad_inv, y=sensibilidad)\n",
    "sns.lineplot(x= recta_x, y=recta_y, color='red', ls = '--')"
   ]
  },
  {
   "cell_type": "code",
   "execution_count": 293,
   "id": "4efe0555-ba5c-4ab3-96fe-23ba43cac0c0",
   "metadata": {
    "tags": []
   },
   "outputs": [
    {
     "data": {
      "text/plain": [
       "0.7732311827956989"
      ]
     },
     "execution_count": 293,
     "metadata": {},
     "output_type": "execute_result"
    }
   ],
   "source": [
    "roc_auc_score(y_test, y_prediction_proba)"
   ]
  }
 ],
 "metadata": {
  "kernelspec": {
   "display_name": "Python 3 (ipykernel)",
   "language": "python",
   "name": "python3"
  },
  "language_info": {
   "codemirror_mode": {
    "name": "ipython",
    "version": 3
   },
   "file_extension": ".py",
   "mimetype": "text/x-python",
   "name": "python",
   "nbconvert_exporter": "python",
   "pygments_lexer": "ipython3",
   "version": "3.11.7"
  }
 },
 "nbformat": 4,
 "nbformat_minor": 5
}
